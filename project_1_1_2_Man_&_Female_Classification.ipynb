{
  "nbformat": 4,
  "nbformat_minor": 0,
  "metadata": {
    "colab": {
      "provenance": [],
      "gpuType": "T4",
      "include_colab_link": true
    },
    "kernelspec": {
      "name": "python3",
      "display_name": "Python 3"
    },
    "language_info": {
      "name": "python"
    },
    "accelerator": "GPU"
  },
  "cells": [
    {
      "cell_type": "markdown",
      "metadata": {
        "id": "view-in-github",
        "colab_type": "text"
      },
      "source": [
        "<a href=\"https://colab.research.google.com/github/ilhamsetyabudi/project_1_1_2_Man_-_Female_Classification/blob/main/project_1_1_2_Man_%26_Female_Classification.ipynb\" target=\"_parent\"><img src=\"https://colab.research.google.com/assets/colab-badge.svg\" alt=\"Open In Colab\"/></a>"
      ]
    },
    {
      "cell_type": "markdown",
      "source": [
        "**DATA PREPARATION & PROCESSING **"
      ],
      "metadata": {
        "id": "pbmvjfE1fp89"
      }
    },
    {
      "cell_type": "code",
      "source": [
        "from google.colab import drive\n",
        "drive.mount('/content/drive')"
      ],
      "metadata": {
        "colab": {
          "base_uri": "https://localhost:8080/"
        },
        "id": "tQJqBI3hKdgR",
        "outputId": "60be9e79-08f7-4f43-e289-64c987ea137c"
      },
      "execution_count": 1,
      "outputs": [
        {
          "output_type": "stream",
          "name": "stdout",
          "text": [
            "Mounted at /content/drive\n"
          ]
        }
      ]
    },
    {
      "cell_type": "code",
      "source": [
        "!pip install rarfile"
      ],
      "metadata": {
        "colab": {
          "base_uri": "https://localhost:8080/"
        },
        "id": "LKmm17WJhwLd",
        "outputId": "6f612c49-6223-4a3f-9b75-00043276081f"
      },
      "execution_count": 2,
      "outputs": [
        {
          "output_type": "stream",
          "name": "stdout",
          "text": [
            "Collecting rarfile\n",
            "  Downloading rarfile-4.0-py3-none-any.whl (28 kB)\n",
            "Installing collected packages: rarfile\n",
            "Successfully installed rarfile-4.0\n"
          ]
        }
      ]
    },
    {
      "cell_type": "code",
      "source": [
        "import pandas as pd\n",
        "from google.colab import files\n",
        "import rarfile\n",
        "import os\n",
        "import shutil\n",
        "import seaborn as sns\n",
        "import matplotlib.pyplot as plt\n",
        "import numpy as np\n",
        "from sklearn.model_selection import train_test_split\n",
        "import torch\n",
        "import torchvision\n",
        "from torchvision.datasets import ImageFolder\n",
        "import torch.nn as nn\n",
        "import torch.optim as optim\n",
        "from torch.utils.data import DataLoader\n",
        "from torchvision import models, transforms, datasets\n",
        "from sklearn.metrics import confusion_matrix"
      ],
      "metadata": {
        "id": "APNEvky6KMWq"
      },
      "execution_count": 3,
      "outputs": []
    },
    {
      "cell_type": "code",
      "source": [],
      "metadata": {
        "id": "N65h7TTMgBQ7"
      },
      "execution_count": 3,
      "outputs": []
    },
    {
      "cell_type": "markdown",
      "source": [
        "MENGIMPOR DAN MENYEDERHANAKAN FILE list_attribute.csv"
      ],
      "metadata": {
        "id": "mtwtxDWqgBsx"
      }
    },
    {
      "cell_type": "code",
      "source": [
        "'''\n",
        "# Mengimpor file CSV ke dataframe dengan pemisah titik koma (;) dan menangani baris yang tidak sesuai format\n",
        "dflist_attribute = pd.read_csv('list_attribute.csv', delimiter=';', error_bad_lines=False)\n",
        "'''"
      ],
      "metadata": {
        "colab": {
          "base_uri": "https://localhost:8080/",
          "height": 36
        },
        "id": "IIt4Dm8IOEEt",
        "outputId": "917a4f99-21bf-46e4-e4c6-b06ca69953a5"
      },
      "execution_count": 4,
      "outputs": [
        {
          "output_type": "execute_result",
          "data": {
            "text/plain": [
              "\"\\n# Mengimpor file CSV ke dataframe dengan pemisah titik koma (;) dan menangani baris yang tidak sesuai format\\ndflist_attribute = pd.read_csv('list_attribute.csv', delimiter=';', error_bad_lines=False)\\n\""
            ],
            "application/vnd.google.colaboratory.intrinsic+json": {
              "type": "string"
            }
          },
          "metadata": {},
          "execution_count": 4
        }
      ]
    },
    {
      "cell_type": "code",
      "source": [
        "'''\n",
        "dflist_attribute.info()\n",
        "'''"
      ],
      "metadata": {
        "colab": {
          "base_uri": "https://localhost:8080/",
          "height": 36
        },
        "id": "G4sd-SCgOPqQ",
        "outputId": "cab221f3-7946-40d8-d9b6-d58cea3935b3"
      },
      "execution_count": 5,
      "outputs": [
        {
          "output_type": "execute_result",
          "data": {
            "text/plain": [
              "'\\ndflist_attribute.info()\\n'"
            ],
            "application/vnd.google.colaboratory.intrinsic+json": {
              "type": "string"
            }
          },
          "metadata": {},
          "execution_count": 5
        }
      ]
    },
    {
      "cell_type": "code",
      "source": [
        "'''\n",
        "dfGender = dflist_attribute[['imageId', 'Male']]\n",
        "'''"
      ],
      "metadata": {
        "id": "00Lj2-P_OWqY",
        "colab": {
          "base_uri": "https://localhost:8080/",
          "height": 36
        },
        "outputId": "38e407b1-ae61-4277-bc55-8b38a3448d4a"
      },
      "execution_count": 6,
      "outputs": [
        {
          "output_type": "execute_result",
          "data": {
            "text/plain": [
              "\"\\ndfGender = dflist_attribute[['imageId', 'Male']]\\n\""
            ],
            "application/vnd.google.colaboratory.intrinsic+json": {
              "type": "string"
            }
          },
          "metadata": {},
          "execution_count": 6
        }
      ]
    },
    {
      "cell_type": "code",
      "source": [
        "'''\n",
        "dfGender\n",
        "'''"
      ],
      "metadata": {
        "colab": {
          "base_uri": "https://localhost:8080/",
          "height": 36
        },
        "id": "GRr-qVMgYrWB",
        "outputId": "72b29c9f-d780-4477-d929-b256c53c94c5"
      },
      "execution_count": 7,
      "outputs": [
        {
          "output_type": "execute_result",
          "data": {
            "text/plain": [
              "'\\ndfGender\\n'"
            ],
            "application/vnd.google.colaboratory.intrinsic+json": {
              "type": "string"
            }
          },
          "metadata": {},
          "execution_count": 7
        }
      ]
    },
    {
      "cell_type": "code",
      "source": [
        "'''\n",
        "dfGender['Male'] = dfGender['Male'].apply(lambda x: 1 if x > 0 else 0).astype(int)\n",
        "'''"
      ],
      "metadata": {
        "colab": {
          "base_uri": "https://localhost:8080/",
          "height": 36
        },
        "id": "q2duMbTrY3EF",
        "outputId": "0faddfcc-0a96-46a0-e1d3-c157f165c8fe"
      },
      "execution_count": 8,
      "outputs": [
        {
          "output_type": "execute_result",
          "data": {
            "text/plain": [
              "\"\\ndfGender['Male'] = dfGender['Male'].apply(lambda x: 1 if x > 0 else 0).astype(int)\\n\""
            ],
            "application/vnd.google.colaboratory.intrinsic+json": {
              "type": "string"
            }
          },
          "metadata": {},
          "execution_count": 8
        }
      ]
    },
    {
      "cell_type": "code",
      "source": [
        "'''\n",
        "dfGender\n",
        "'''"
      ],
      "metadata": {
        "colab": {
          "base_uri": "https://localhost:8080/",
          "height": 36
        },
        "id": "JWT56sCcZmEy",
        "outputId": "cc1a5bdf-9286-41ca-e22f-fcdba4e751ad"
      },
      "execution_count": 9,
      "outputs": [
        {
          "output_type": "execute_result",
          "data": {
            "text/plain": [
              "'\\ndfGender\\n'"
            ],
            "application/vnd.google.colaboratory.intrinsic+json": {
              "type": "string"
            }
          },
          "metadata": {},
          "execution_count": 9
        }
      ]
    },
    {
      "cell_type": "code",
      "source": [
        "'''\n",
        "dfGender.to_csv('dfGender.csv', index=False)\n",
        "files.download('dfGender.csv')\n",
        "'''"
      ],
      "metadata": {
        "colab": {
          "base_uri": "https://localhost:8080/",
          "height": 36
        },
        "id": "GpVsUj9GaJt3",
        "outputId": "3568abef-3bc8-4540-d097-bc476889d922"
      },
      "execution_count": 10,
      "outputs": [
        {
          "output_type": "execute_result",
          "data": {
            "text/plain": [
              "\"\\ndfGender.to_csv('dfGender.csv', index=False)\\nfiles.download('dfGender.csv')\\n\""
            ],
            "application/vnd.google.colaboratory.intrinsic+json": {
              "type": "string"
            }
          },
          "metadata": {},
          "execution_count": 10
        }
      ]
    },
    {
      "cell_type": "code",
      "source": [],
      "metadata": {
        "id": "VdqdNdGthHK7"
      },
      "execution_count": 10,
      "outputs": []
    },
    {
      "cell_type": "markdown",
      "source": [
        "EXTRACT DATA IMAGE YANG BERADA DI DRIVE"
      ],
      "metadata": {
        "id": "yM9Vw0K-hISW"
      }
    },
    {
      "cell_type": "code",
      "source": [
        "# Membuka file RAR\n",
        "with rarfile.RarFile('drive/MyDrive/Images.rar', 'r') as rf:\n",
        "    # Ekstrak isi file RAR ke direktori tujuan\n",
        "    rf.extractall('sample_data')"
      ],
      "metadata": {
        "id": "PBRcb37zcNNv"
      },
      "execution_count": 11,
      "outputs": []
    },
    {
      "cell_type": "code",
      "source": [
        "folder_path = 'sample_data/Images'  # Ganti dengan path folder \"Images\" Anda\n",
        "\n",
        "# Menghitung jumlah foto di folder\n",
        "count = 0\n",
        "for filename in os.listdir(folder_path):\n",
        "    if filename.endswith('.jpg'):\n",
        "        count += 1\n",
        "\n",
        "print(f\"Jumlah foto di folder: {count}\")"
      ],
      "metadata": {
        "colab": {
          "base_uri": "https://localhost:8080/"
        },
        "id": "ngDmOzt8QTg5",
        "outputId": "ef9f4f42-cbe1-4be8-e8b0-af3f8f65943c"
      },
      "execution_count": 12,
      "outputs": [
        {
          "output_type": "stream",
          "name": "stdout",
          "text": [
            "Jumlah foto di folder: 5000\n"
          ]
        }
      ]
    },
    {
      "cell_type": "code",
      "source": [],
      "metadata": {
        "id": "oEIZ6q_mi4MZ"
      },
      "execution_count": 12,
      "outputs": []
    },
    {
      "cell_type": "markdown",
      "source": [
        "MEMBUAT dfGenderFix DARI dfGender UNTUK MENDROP ROW YANG TIDAK DIPAKAI/TIDAK ADA FOTONYA"
      ],
      "metadata": {
        "id": "4a4DoeVjkbby"
      }
    },
    {
      "cell_type": "code",
      "source": [
        "'''\n",
        "# Path folder Images\n",
        "images_folder = 'sample_data/Images'\n",
        "\n",
        "# Membuat daftar file gambar yang ada di folder Images\n",
        "existing_images = [filename for filename in os.listdir(images_folder) if filename.endswith('.jpg')]\n",
        "\n",
        "# Membuat salinan dataframe dfGender\n",
        "dfGenderFix = dfGender.copy()\n",
        "\n",
        "# Menghapus baris yang tidak cocok dengan kondisi\n",
        "dfGenderFix = dfGenderFix[dfGenderFix['imageId'].isin(existing_images)].dropna()\n",
        "\n",
        "# Menampilkan dataframe dfGenderFix\n",
        "dfGenderFix\n",
        "'''"
      ],
      "metadata": {
        "id": "0LaJc_Aqhqg6",
        "colab": {
          "base_uri": "https://localhost:8080/",
          "height": 74
        },
        "outputId": "0ead1064-55db-4a9b-fcf0-a115a0535a3e"
      },
      "execution_count": 13,
      "outputs": [
        {
          "output_type": "execute_result",
          "data": {
            "text/plain": [
              "\"\\n# Path folder Images\\nimages_folder = 'sample_data/Images'\\n\\n# Membuat daftar file gambar yang ada di folder Images\\nexisting_images = [filename for filename in os.listdir(images_folder) if filename.endswith('.jpg')]\\n\\n# Membuat salinan dataframe dfGender\\ndfGenderFix = dfGender.copy()\\n\\n# Menghapus baris yang tidak cocok dengan kondisi\\ndfGenderFix = dfGenderFix[dfGenderFix['imageId'].isin(existing_images)].dropna()\\n\\n# Menampilkan dataframe dfGenderFix\\ndfGenderFix\\n\""
            ],
            "application/vnd.google.colaboratory.intrinsic+json": {
              "type": "string"
            }
          },
          "metadata": {},
          "execution_count": 13
        }
      ]
    },
    {
      "cell_type": "code",
      "source": [
        "'''duplicated = dfGenderFix['imageId'].duplicated()\n",
        "print(duplicated)\n",
        "total_duplicates = duplicated.sum()\n",
        "print(\"Total duplikat dalam kolom 'imageId':\", total_duplicates)\n",
        "'''"
      ],
      "metadata": {
        "colab": {
          "base_uri": "https://localhost:8080/",
          "height": 36
        },
        "id": "vUP0ByAdjkt0",
        "outputId": "7e48be6c-4e2a-4f2e-f53f-4938b92646ee"
      },
      "execution_count": 14,
      "outputs": [
        {
          "output_type": "execute_result",
          "data": {
            "text/plain": [
              "'duplicated = dfGenderFix[\\'imageId\\'].duplicated()\\nprint(duplicated)\\ntotal_duplicates = duplicated.sum()\\nprint(\"Total duplikat dalam kolom \\'imageId\\':\", total_duplicates)\\n'"
            ],
            "application/vnd.google.colaboratory.intrinsic+json": {
              "type": "string"
            }
          },
          "metadata": {},
          "execution_count": 14
        }
      ]
    },
    {
      "cell_type": "code",
      "source": [
        "'''\n",
        "duplicated = dfGenderFix['imageId'].duplicated(keep=False)\n",
        "duplicated_data = dfGenderFix[duplicated]\n",
        "print(duplicated_data)\n",
        "'''"
      ],
      "metadata": {
        "colab": {
          "base_uri": "https://localhost:8080/",
          "height": 36
        },
        "id": "mW2wf-6OnggX",
        "outputId": "f5e8c47e-7597-4763-d84a-b9c0b8bc3092"
      },
      "execution_count": 15,
      "outputs": [
        {
          "output_type": "execute_result",
          "data": {
            "text/plain": [
              "\"\\nduplicated = dfGenderFix['imageId'].duplicated(keep=False)\\nduplicated_data = dfGenderFix[duplicated]\\nprint(duplicated_data)\\n\""
            ],
            "application/vnd.google.colaboratory.intrinsic+json": {
              "type": "string"
            }
          },
          "metadata": {},
          "execution_count": 15
        }
      ]
    },
    {
      "cell_type": "code",
      "source": [
        "'''\n",
        "dfGenderFix.to_csv('dfGenderBelumFix.csv', index=False)\n",
        "files.download('dfGenderBelumFix.csv')\n",
        "'''"
      ],
      "metadata": {
        "colab": {
          "base_uri": "https://localhost:8080/",
          "height": 36
        },
        "id": "Nxesrx1PqJZ2",
        "outputId": "4c7b3cf2-bc33-4537-e3c6-b7f3df66e42e"
      },
      "execution_count": 16,
      "outputs": [
        {
          "output_type": "execute_result",
          "data": {
            "text/plain": [
              "\"\\ndfGenderFix.to_csv('dfGenderBelumFix.csv', index=False)\\nfiles.download('dfGenderBelumFix.csv')\\n\""
            ],
            "application/vnd.google.colaboratory.intrinsic+json": {
              "type": "string"
            }
          },
          "metadata": {},
          "execution_count": 16
        }
      ]
    },
    {
      "cell_type": "code",
      "source": [
        "'''\n",
        "dfGenderFix.drop_duplicates(subset='imageId', keep='first', inplace=True)\n",
        "dfGenderFix\n",
        "'''"
      ],
      "metadata": {
        "colab": {
          "base_uri": "https://localhost:8080/",
          "height": 36
        },
        "id": "rjxPHh94oGyZ",
        "outputId": "fc532062-b21a-476a-89fe-da4c4e965b83"
      },
      "execution_count": 17,
      "outputs": [
        {
          "output_type": "execute_result",
          "data": {
            "text/plain": [
              "\"\\ndfGenderFix.drop_duplicates(subset='imageId', keep='first', inplace=True)\\ndfGenderFix\\n\""
            ],
            "application/vnd.google.colaboratory.intrinsic+json": {
              "type": "string"
            }
          },
          "metadata": {},
          "execution_count": 17
        }
      ]
    },
    {
      "cell_type": "code",
      "source": [
        "'''\n",
        "dfGenderFix.to_csv('dfGenderFix.csv', index=False)\n",
        "files.download('dfGenderFix.csv')\n",
        "'''"
      ],
      "metadata": {
        "colab": {
          "base_uri": "https://localhost:8080/",
          "height": 36
        },
        "id": "xy0jG02zpxpF",
        "outputId": "2f19b80e-a73d-4090-b67e-c49e599dcfc8"
      },
      "execution_count": 18,
      "outputs": [
        {
          "output_type": "execute_result",
          "data": {
            "text/plain": [
              "\"\\ndfGenderFix.to_csv('dfGenderFix.csv', index=False)\\nfiles.download('dfGenderFix.csv')\\n\""
            ],
            "application/vnd.google.colaboratory.intrinsic+json": {
              "type": "string"
            }
          },
          "metadata": {},
          "execution_count": 18
        }
      ]
    },
    {
      "cell_type": "code",
      "source": [
        "dfGenderFix = pd.read_csv('dfGenderFix.csv')\n",
        "dfGenderFix"
      ],
      "metadata": {
        "id": "ynI3klrGpzU7",
        "colab": {
          "base_uri": "https://localhost:8080/",
          "height": 424
        },
        "outputId": "efc32802-03a2-4162-cdb0-7147c2e767ed"
      },
      "execution_count": 19,
      "outputs": [
        {
          "output_type": "execute_result",
          "data": {
            "text/plain": [
              "         imageId  Male\n",
              "0     000051.jpg     1\n",
              "1     000052.jpg     1\n",
              "2     000065.jpg     1\n",
              "3     000166.jpg     1\n",
              "4     000198.jpg     0\n",
              "...          ...   ...\n",
              "4995  202320.jpg     0\n",
              "4996  202340.jpg     0\n",
              "4997  202347.jpg     0\n",
              "4998  202357.jpg     0\n",
              "4999  202566.jpg     1\n",
              "\n",
              "[5000 rows x 2 columns]"
            ],
            "text/html": [
              "\n",
              "\n",
              "  <div id=\"df-7f69e2a3-1727-4673-b859-79b7f7b2e093\">\n",
              "    <div class=\"colab-df-container\">\n",
              "      <div>\n",
              "<style scoped>\n",
              "    .dataframe tbody tr th:only-of-type {\n",
              "        vertical-align: middle;\n",
              "    }\n",
              "\n",
              "    .dataframe tbody tr th {\n",
              "        vertical-align: top;\n",
              "    }\n",
              "\n",
              "    .dataframe thead th {\n",
              "        text-align: right;\n",
              "    }\n",
              "</style>\n",
              "<table border=\"1\" class=\"dataframe\">\n",
              "  <thead>\n",
              "    <tr style=\"text-align: right;\">\n",
              "      <th></th>\n",
              "      <th>imageId</th>\n",
              "      <th>Male</th>\n",
              "    </tr>\n",
              "  </thead>\n",
              "  <tbody>\n",
              "    <tr>\n",
              "      <th>0</th>\n",
              "      <td>000051.jpg</td>\n",
              "      <td>1</td>\n",
              "    </tr>\n",
              "    <tr>\n",
              "      <th>1</th>\n",
              "      <td>000052.jpg</td>\n",
              "      <td>1</td>\n",
              "    </tr>\n",
              "    <tr>\n",
              "      <th>2</th>\n",
              "      <td>000065.jpg</td>\n",
              "      <td>1</td>\n",
              "    </tr>\n",
              "    <tr>\n",
              "      <th>3</th>\n",
              "      <td>000166.jpg</td>\n",
              "      <td>1</td>\n",
              "    </tr>\n",
              "    <tr>\n",
              "      <th>4</th>\n",
              "      <td>000198.jpg</td>\n",
              "      <td>0</td>\n",
              "    </tr>\n",
              "    <tr>\n",
              "      <th>...</th>\n",
              "      <td>...</td>\n",
              "      <td>...</td>\n",
              "    </tr>\n",
              "    <tr>\n",
              "      <th>4995</th>\n",
              "      <td>202320.jpg</td>\n",
              "      <td>0</td>\n",
              "    </tr>\n",
              "    <tr>\n",
              "      <th>4996</th>\n",
              "      <td>202340.jpg</td>\n",
              "      <td>0</td>\n",
              "    </tr>\n",
              "    <tr>\n",
              "      <th>4997</th>\n",
              "      <td>202347.jpg</td>\n",
              "      <td>0</td>\n",
              "    </tr>\n",
              "    <tr>\n",
              "      <th>4998</th>\n",
              "      <td>202357.jpg</td>\n",
              "      <td>0</td>\n",
              "    </tr>\n",
              "    <tr>\n",
              "      <th>4999</th>\n",
              "      <td>202566.jpg</td>\n",
              "      <td>1</td>\n",
              "    </tr>\n",
              "  </tbody>\n",
              "</table>\n",
              "<p>5000 rows × 2 columns</p>\n",
              "</div>\n",
              "      <button class=\"colab-df-convert\" onclick=\"convertToInteractive('df-7f69e2a3-1727-4673-b859-79b7f7b2e093')\"\n",
              "              title=\"Convert this dataframe to an interactive table.\"\n",
              "              style=\"display:none;\">\n",
              "\n",
              "  <svg xmlns=\"http://www.w3.org/2000/svg\" height=\"24px\"viewBox=\"0 0 24 24\"\n",
              "       width=\"24px\">\n",
              "    <path d=\"M0 0h24v24H0V0z\" fill=\"none\"/>\n",
              "    <path d=\"M18.56 5.44l.94 2.06.94-2.06 2.06-.94-2.06-.94-.94-2.06-.94 2.06-2.06.94zm-11 1L8.5 8.5l.94-2.06 2.06-.94-2.06-.94L8.5 2.5l-.94 2.06-2.06.94zm10 10l.94 2.06.94-2.06 2.06-.94-2.06-.94-.94-2.06-.94 2.06-2.06.94z\"/><path d=\"M17.41 7.96l-1.37-1.37c-.4-.4-.92-.59-1.43-.59-.52 0-1.04.2-1.43.59L10.3 9.45l-7.72 7.72c-.78.78-.78 2.05 0 2.83L4 21.41c.39.39.9.59 1.41.59.51 0 1.02-.2 1.41-.59l7.78-7.78 2.81-2.81c.8-.78.8-2.07 0-2.86zM5.41 20L4 18.59l7.72-7.72 1.47 1.35L5.41 20z\"/>\n",
              "  </svg>\n",
              "      </button>\n",
              "\n",
              "\n",
              "\n",
              "    <div id=\"df-9a52a424-19be-4de6-bdad-b678e9e60c8d\">\n",
              "      <button class=\"colab-df-quickchart\" onclick=\"quickchart('df-9a52a424-19be-4de6-bdad-b678e9e60c8d')\"\n",
              "              title=\"Suggest charts.\"\n",
              "              style=\"display:none;\">\n",
              "\n",
              "<svg xmlns=\"http://www.w3.org/2000/svg\" height=\"24px\"viewBox=\"0 0 24 24\"\n",
              "     width=\"24px\">\n",
              "    <g>\n",
              "        <path d=\"M19 3H5c-1.1 0-2 .9-2 2v14c0 1.1.9 2 2 2h14c1.1 0 2-.9 2-2V5c0-1.1-.9-2-2-2zM9 17H7v-7h2v7zm4 0h-2V7h2v10zm4 0h-2v-4h2v4z\"/>\n",
              "    </g>\n",
              "</svg>\n",
              "      </button>\n",
              "    </div>\n",
              "\n",
              "<style>\n",
              "  .colab-df-quickchart {\n",
              "    background-color: #E8F0FE;\n",
              "    border: none;\n",
              "    border-radius: 50%;\n",
              "    cursor: pointer;\n",
              "    display: none;\n",
              "    fill: #1967D2;\n",
              "    height: 32px;\n",
              "    padding: 0 0 0 0;\n",
              "    width: 32px;\n",
              "  }\n",
              "\n",
              "  .colab-df-quickchart:hover {\n",
              "    background-color: #E2EBFA;\n",
              "    box-shadow: 0px 1px 2px rgba(60, 64, 67, 0.3), 0px 1px 3px 1px rgba(60, 64, 67, 0.15);\n",
              "    fill: #174EA6;\n",
              "  }\n",
              "\n",
              "  [theme=dark] .colab-df-quickchart {\n",
              "    background-color: #3B4455;\n",
              "    fill: #D2E3FC;\n",
              "  }\n",
              "\n",
              "  [theme=dark] .colab-df-quickchart:hover {\n",
              "    background-color: #434B5C;\n",
              "    box-shadow: 0px 1px 3px 1px rgba(0, 0, 0, 0.15);\n",
              "    filter: drop-shadow(0px 1px 2px rgba(0, 0, 0, 0.3));\n",
              "    fill: #FFFFFF;\n",
              "  }\n",
              "</style>\n",
              "\n",
              "    <script>\n",
              "      async function quickchart(key) {\n",
              "        const containerElement = document.querySelector('#' + key);\n",
              "        const charts = await google.colab.kernel.invokeFunction(\n",
              "            'suggestCharts', [key], {});\n",
              "      }\n",
              "    </script>\n",
              "\n",
              "      <script>\n",
              "\n",
              "function displayQuickchartButton(domScope) {\n",
              "  let quickchartButtonEl =\n",
              "    domScope.querySelector('#df-9a52a424-19be-4de6-bdad-b678e9e60c8d button.colab-df-quickchart');\n",
              "  quickchartButtonEl.style.display =\n",
              "    google.colab.kernel.accessAllowed ? 'block' : 'none';\n",
              "}\n",
              "\n",
              "        displayQuickchartButton(document);\n",
              "      </script>\n",
              "      <style>\n",
              "    .colab-df-container {\n",
              "      display:flex;\n",
              "      flex-wrap:wrap;\n",
              "      gap: 12px;\n",
              "    }\n",
              "\n",
              "    .colab-df-convert {\n",
              "      background-color: #E8F0FE;\n",
              "      border: none;\n",
              "      border-radius: 50%;\n",
              "      cursor: pointer;\n",
              "      display: none;\n",
              "      fill: #1967D2;\n",
              "      height: 32px;\n",
              "      padding: 0 0 0 0;\n",
              "      width: 32px;\n",
              "    }\n",
              "\n",
              "    .colab-df-convert:hover {\n",
              "      background-color: #E2EBFA;\n",
              "      box-shadow: 0px 1px 2px rgba(60, 64, 67, 0.3), 0px 1px 3px 1px rgba(60, 64, 67, 0.15);\n",
              "      fill: #174EA6;\n",
              "    }\n",
              "\n",
              "    [theme=dark] .colab-df-convert {\n",
              "      background-color: #3B4455;\n",
              "      fill: #D2E3FC;\n",
              "    }\n",
              "\n",
              "    [theme=dark] .colab-df-convert:hover {\n",
              "      background-color: #434B5C;\n",
              "      box-shadow: 0px 1px 3px 1px rgba(0, 0, 0, 0.15);\n",
              "      filter: drop-shadow(0px 1px 2px rgba(0, 0, 0, 0.3));\n",
              "      fill: #FFFFFF;\n",
              "    }\n",
              "  </style>\n",
              "\n",
              "      <script>\n",
              "        const buttonEl =\n",
              "          document.querySelector('#df-7f69e2a3-1727-4673-b859-79b7f7b2e093 button.colab-df-convert');\n",
              "        buttonEl.style.display =\n",
              "          google.colab.kernel.accessAllowed ? 'block' : 'none';\n",
              "\n",
              "        async function convertToInteractive(key) {\n",
              "          const element = document.querySelector('#df-7f69e2a3-1727-4673-b859-79b7f7b2e093');\n",
              "          const dataTable =\n",
              "            await google.colab.kernel.invokeFunction('convertToInteractive',\n",
              "                                                     [key], {});\n",
              "          if (!dataTable) return;\n",
              "\n",
              "          const docLinkHtml = 'Like what you see? Visit the ' +\n",
              "            '<a target=\"_blank\" href=https://colab.research.google.com/notebooks/data_table.ipynb>data table notebook</a>'\n",
              "            + ' to learn more about interactive tables.';\n",
              "          element.innerHTML = '';\n",
              "          dataTable['output_type'] = 'display_data';\n",
              "          await google.colab.output.renderOutput(dataTable, element);\n",
              "          const docLink = document.createElement('div');\n",
              "          docLink.innerHTML = docLinkHtml;\n",
              "          element.appendChild(docLink);\n",
              "        }\n",
              "      </script>\n",
              "    </div>\n",
              "  </div>\n"
            ]
          },
          "metadata": {},
          "execution_count": 19
        }
      ]
    },
    {
      "cell_type": "code",
      "source": [
        "male_count = dfGenderFix['Male'].value_counts()[1]\n",
        "female_count = dfGenderFix['Male'].value_counts()[0]\n",
        "\n",
        "print(\"Jumlah nilai Male = 1:\", male_count)\n",
        "print(\"Jumlah nilai Male = 0:\", female_count)"
      ],
      "metadata": {
        "id": "F26p4OM-xtDI",
        "colab": {
          "base_uri": "https://localhost:8080/"
        },
        "outputId": "362b2be2-69e4-4d1e-ffc9-b3254943cfff"
      },
      "execution_count": 20,
      "outputs": [
        {
          "output_type": "stream",
          "name": "stdout",
          "text": [
            "Jumlah nilai Male = 1: 2047\n",
            "Jumlah nilai Male = 0: 2953\n"
          ]
        }
      ]
    },
    {
      "cell_type": "code",
      "source": [
        "\n",
        "# Plot jumlah nilai 1 dan 0 di kolom 'Male'\n",
        "sns.countplot(x='Male', data=dfGenderFix)\n",
        "\n",
        "# Atur label sumbu x\n",
        "plt.xlabel('Male')\n",
        "\n",
        "# Atur label sumbu y\n",
        "plt.ylabel('Count')\n",
        "\n",
        "# Atur judul plot\n",
        "plt.title('Jumlah nilai Male')\n",
        "\n",
        "# Tampilkan plot\n",
        "plt.show()\n"
      ],
      "metadata": {
        "colab": {
          "base_uri": "https://localhost:8080/",
          "height": 472
        },
        "id": "pmarei800bOU",
        "outputId": "85f91591-568f-44b4-ab86-5bb210d943c5"
      },
      "execution_count": 21,
      "outputs": [
        {
          "output_type": "display_data",
          "data": {
            "text/plain": [
              "<Figure size 640x480 with 1 Axes>"
            ],
            "image/png": "[encoded data removed]"
          },
          "metadata": {}
        }
      ]
    },
    {
      "cell_type": "code",
      "source": [],
      "metadata": {
        "id": "4lqbTQC3kzbg"
      },
      "execution_count": 21,
      "outputs": []
    },
    {
      "cell_type": "markdown",
      "source": [
        "SPLIT DATA dfGenderFix ,dan menambah kolom baru untuk menginisialkan yang mana data  train dan test"
      ],
      "metadata": {
        "id": "bZ6yL52Pk0OV"
      }
    },
    {
      "cell_type": "code",
      "source": [
        "# Pisahkan fitur (X) dan label (y)\n",
        "X = dfGenderFix.drop(['imageId', 'Male'], axis=1)\n",
        "y = dfGenderFix['Male']\n",
        "\n",
        "# Bagi data menjadi set pelatihan dan uji\n",
        "X_train, X_test, y_train, y_test = train_test_split(X, y, test_size=0.4, random_state=42)\n",
        "\n",
        "# Tambahkan kolom baru untuk menandai set pelatihan atau uji\n",
        "dfGenderFix['Set'] = np.nan\n",
        "dfGenderFix.loc[X_train.index, 'Set'] = 1\n",
        "dfGenderFix.loc[X_test.index, 'Set'] = 0\n",
        "\n",
        "# Konversi tipe data kolom 'Set' menjadi integer\n",
        "dfGenderFix['Set'] = dfGenderFix['Set'].astype(int)"
      ],
      "metadata": {
        "id": "pd5ZBFla0uXj"
      },
      "execution_count": 22,
      "outputs": []
    },
    {
      "cell_type": "code",
      "source": [
        "dfGenderFix"
      ],
      "metadata": {
        "colab": {
          "base_uri": "https://localhost:8080/",
          "height": 424
        },
        "id": "60fBraVDU1Ht",
        "outputId": "b8b669d6-544f-43a8-a2ca-eb820582418e"
      },
      "execution_count": 23,
      "outputs": [
        {
          "output_type": "execute_result",
          "data": {
            "text/plain": [
              "         imageId  Male  Set\n",
              "0     000051.jpg     1    0\n",
              "1     000052.jpg     1    1\n",
              "2     000065.jpg     1    1\n",
              "3     000166.jpg     1    1\n",
              "4     000198.jpg     0    1\n",
              "...          ...   ...  ...\n",
              "4995  202320.jpg     0    0\n",
              "4996  202340.jpg     0    0\n",
              "4997  202347.jpg     0    1\n",
              "4998  202357.jpg     0    0\n",
              "4999  202566.jpg     1    0\n",
              "\n",
              "[5000 rows x 3 columns]"
            ],
            "text/html": [
              "\n",
              "\n",
              "  <div id=\"df-ac51c2e4-3f7b-4fd8-b95a-0045f625ef66\">\n",
              "    <div class=\"colab-df-container\">\n",
              "      <div>\n",
              "<style scoped>\n",
              "    .dataframe tbody tr th:only-of-type {\n",
              "        vertical-align: middle;\n",
              "    }\n",
              "\n",
              "    .dataframe tbody tr th {\n",
              "        vertical-align: top;\n",
              "    }\n",
              "\n",
              "    .dataframe thead th {\n",
              "        text-align: right;\n",
              "    }\n",
              "</style>\n",
              "<table border=\"1\" class=\"dataframe\">\n",
              "  <thead>\n",
              "    <tr style=\"text-align: right;\">\n",
              "      <th></th>\n",
              "      <th>imageId</th>\n",
              "      <th>Male</th>\n",
              "      <th>Set</th>\n",
              "    </tr>\n",
              "  </thead>\n",
              "  <tbody>\n",
              "    <tr>\n",
              "      <th>0</th>\n",
              "      <td>000051.jpg</td>\n",
              "      <td>1</td>\n",
              "      <td>0</td>\n",
              "    </tr>\n",
              "    <tr>\n",
              "      <th>1</th>\n",
              "      <td>000052.jpg</td>\n",
              "      <td>1</td>\n",
              "      <td>1</td>\n",
              "    </tr>\n",
              "    <tr>\n",
              "      <th>2</th>\n",
              "      <td>000065.jpg</td>\n",
              "      <td>1</td>\n",
              "      <td>1</td>\n",
              "    </tr>\n",
              "    <tr>\n",
              "      <th>3</th>\n",
              "      <td>000166.jpg</td>\n",
              "      <td>1</td>\n",
              "      <td>1</td>\n",
              "    </tr>\n",
              "    <tr>\n",
              "      <th>4</th>\n",
              "      <td>000198.jpg</td>\n",
              "      <td>0</td>\n",
              "      <td>1</td>\n",
              "    </tr>\n",
              "    <tr>\n",
              "      <th>...</th>\n",
              "      <td>...</td>\n",
              "      <td>...</td>\n",
              "      <td>...</td>\n",
              "    </tr>\n",
              "    <tr>\n",
              "      <th>4995</th>\n",
              "      <td>202320.jpg</td>\n",
              "      <td>0</td>\n",
              "      <td>0</td>\n",
              "    </tr>\n",
              "    <tr>\n",
              "      <th>4996</th>\n",
              "      <td>202340.jpg</td>\n",
              "      <td>0</td>\n",
              "      <td>0</td>\n",
              "    </tr>\n",
              "    <tr>\n",
              "      <th>4997</th>\n",
              "      <td>202347.jpg</td>\n",
              "      <td>0</td>\n",
              "      <td>1</td>\n",
              "    </tr>\n",
              "    <tr>\n",
              "      <th>4998</th>\n",
              "      <td>202357.jpg</td>\n",
              "      <td>0</td>\n",
              "      <td>0</td>\n",
              "    </tr>\n",
              "    <tr>\n",
              "      <th>4999</th>\n",
              "      <td>202566.jpg</td>\n",
              "      <td>1</td>\n",
              "      <td>0</td>\n",
              "    </tr>\n",
              "  </tbody>\n",
              "</table>\n",
              "<p>5000 rows × 3 columns</p>\n",
              "</div>\n",
              "      <button class=\"colab-df-convert\" onclick=\"convertToInteractive('df-ac51c2e4-3f7b-4fd8-b95a-0045f625ef66')\"\n",
              "              title=\"Convert this dataframe to an interactive table.\"\n",
              "              style=\"display:none;\">\n",
              "\n",
              "  <svg xmlns=\"http://www.w3.org/2000/svg\" height=\"24px\"viewBox=\"0 0 24 24\"\n",
              "       width=\"24px\">\n",
              "    <path d=\"M0 0h24v24H0V0z\" fill=\"none\"/>\n",
              "    <path d=\"M18.56 5.44l.94 2.06.94-2.06 2.06-.94-2.06-.94-.94-2.06-.94 2.06-2.06.94zm-11 1L8.5 8.5l.94-2.06 2.06-.94-2.06-.94L8.5 2.5l-.94 2.06-2.06.94zm10 10l.94 2.06.94-2.06 2.06-.94-2.06-.94-.94-2.06-.94 2.06-2.06.94z\"/><path d=\"M17.41 7.96l-1.37-1.37c-.4-.4-.92-.59-1.43-.59-.52 0-1.04.2-1.43.59L10.3 9.45l-7.72 7.72c-.78.78-.78 2.05 0 2.83L4 21.41c.39.39.9.59 1.41.59.51 0 1.02-.2 1.41-.59l7.78-7.78 2.81-2.81c.8-.78.8-2.07 0-2.86zM5.41 20L4 18.59l7.72-7.72 1.47 1.35L5.41 20z\"/>\n",
              "  </svg>\n",
              "      </button>\n",
              "\n",
              "\n",
              "\n",
              "    <div id=\"df-34abec6f-2bae-45ec-b5da-0e150742a646\">\n",
              "      <button class=\"colab-df-quickchart\" onclick=\"quickchart('df-34abec6f-2bae-45ec-b5da-0e150742a646')\"\n",
              "              title=\"Suggest charts.\"\n",
              "              style=\"display:none;\">\n",
              "\n",
              "<svg xmlns=\"http://www.w3.org/2000/svg\" height=\"24px\"viewBox=\"0 0 24 24\"\n",
              "     width=\"24px\">\n",
              "    <g>\n",
              "        <path d=\"M19 3H5c-1.1 0-2 .9-2 2v14c0 1.1.9 2 2 2h14c1.1 0 2-.9 2-2V5c0-1.1-.9-2-2-2zM9 17H7v-7h2v7zm4 0h-2V7h2v10zm4 0h-2v-4h2v4z\"/>\n",
              "    </g>\n",
              "</svg>\n",
              "      </button>\n",
              "    </div>\n",
              "\n",
              "<style>\n",
              "  .colab-df-quickchart {\n",
              "    background-color: #E8F0FE;\n",
              "    border: none;\n",
              "    border-radius: 50%;\n",
              "    cursor: pointer;\n",
              "    display: none;\n",
              "    fill: #1967D2;\n",
              "    height: 32px;\n",
              "    padding: 0 0 0 0;\n",
              "    width: 32px;\n",
              "  }\n",
              "\n",
              "  .colab-df-quickchart:hover {\n",
              "    background-color: #E2EBFA;\n",
              "    box-shadow: 0px 1px 2px rgba(60, 64, 67, 0.3), 0px 1px 3px 1px rgba(60, 64, 67, 0.15);\n",
              "    fill: #174EA6;\n",
              "  }\n",
              "\n",
              "  [theme=dark] .colab-df-quickchart {\n",
              "    background-color: #3B4455;\n",
              "    fill: #D2E3FC;\n",
              "  }\n",
              "\n",
              "  [theme=dark] .colab-df-quickchart:hover {\n",
              "    background-color: #434B5C;\n",
              "    box-shadow: 0px 1px 3px 1px rgba(0, 0, 0, 0.15);\n",
              "    filter: drop-shadow(0px 1px 2px rgba(0, 0, 0, 0.3));\n",
              "    fill: #FFFFFF;\n",
              "  }\n",
              "</style>\n",
              "\n",
              "    <script>\n",
              "      async function quickchart(key) {\n",
              "        const containerElement = document.querySelector('#' + key);\n",
              "        const charts = await google.colab.kernel.invokeFunction(\n",
              "            'suggestCharts', [key], {});\n",
              "      }\n",
              "    </script>\n",
              "\n",
              "      <script>\n",
              "\n",
              "function displayQuickchartButton(domScope) {\n",
              "  let quickchartButtonEl =\n",
              "    domScope.querySelector('#df-34abec6f-2bae-45ec-b5da-0e150742a646 button.colab-df-quickchart');\n",
              "  quickchartButtonEl.style.display =\n",
              "    google.colab.kernel.accessAllowed ? 'block' : 'none';\n",
              "}\n",
              "\n",
              "        displayQuickchartButton(document);\n",
              "      </script>\n",
              "      <style>\n",
              "    .colab-df-container {\n",
              "      display:flex;\n",
              "      flex-wrap:wrap;\n",
              "      gap: 12px;\n",
              "    }\n",
              "\n",
              "    .colab-df-convert {\n",
              "      background-color: #E8F0FE;\n",
              "      border: none;\n",
              "      border-radius: 50%;\n",
              "      cursor: pointer;\n",
              "      display: none;\n",
              "      fill: #1967D2;\n",
              "      height: 32px;\n",
              "      padding: 0 0 0 0;\n",
              "      width: 32px;\n",
              "    }\n",
              "\n",
              "    .colab-df-convert:hover {\n",
              "      background-color: #E2EBFA;\n",
              "      box-shadow: 0px 1px 2px rgba(60, 64, 67, 0.3), 0px 1px 3px 1px rgba(60, 64, 67, 0.15);\n",
              "      fill: #174EA6;\n",
              "    }\n",
              "\n",
              "    [theme=dark] .colab-df-convert {\n",
              "      background-color: #3B4455;\n",
              "      fill: #D2E3FC;\n",
              "    }\n",
              "\n",
              "    [theme=dark] .colab-df-convert:hover {\n",
              "      background-color: #434B5C;\n",
              "      box-shadow: 0px 1px 3px 1px rgba(0, 0, 0, 0.15);\n",
              "      filter: drop-shadow(0px 1px 2px rgba(0, 0, 0, 0.3));\n",
              "      fill: #FFFFFF;\n",
              "    }\n",
              "  </style>\n",
              "\n",
              "      <script>\n",
              "        const buttonEl =\n",
              "          document.querySelector('#df-ac51c2e4-3f7b-4fd8-b95a-0045f625ef66 button.colab-df-convert');\n",
              "        buttonEl.style.display =\n",
              "          google.colab.kernel.accessAllowed ? 'block' : 'none';\n",
              "\n",
              "        async function convertToInteractive(key) {\n",
              "          const element = document.querySelector('#df-ac51c2e4-3f7b-4fd8-b95a-0045f625ef66');\n",
              "          const dataTable =\n",
              "            await google.colab.kernel.invokeFunction('convertToInteractive',\n",
              "                                                     [key], {});\n",
              "          if (!dataTable) return;\n",
              "\n",
              "          const docLinkHtml = 'Like what you see? Visit the ' +\n",
              "            '<a target=\"_blank\" href=https://colab.research.google.com/notebooks/data_table.ipynb>data table notebook</a>'\n",
              "            + ' to learn more about interactive tables.';\n",
              "          element.innerHTML = '';\n",
              "          dataTable['output_type'] = 'display_data';\n",
              "          await google.colab.output.renderOutput(dataTable, element);\n",
              "          const docLink = document.createElement('div');\n",
              "          docLink.innerHTML = docLinkHtml;\n",
              "          element.appendChild(docLink);\n",
              "        }\n",
              "      </script>\n",
              "    </div>\n",
              "  </div>\n"
            ]
          },
          "metadata": {},
          "execution_count": 23
        }
      ]
    },
    {
      "cell_type": "code",
      "source": [
        "# Menghitung jumlah nilai 1 di kolom 'Set' dan nilai 1 di kolom 'Male'\n",
        "count_1_1 = len(dfGenderFix[(dfGenderFix['Set'] == 1) & (dfGenderFix['Male'] == 1)])\n",
        "\n",
        "# Menghitung jumlah nilai 1 di kolom 'Set' dan nilai 0 di kolom 'Male'\n",
        "count_1_0 = len(dfGenderFix[(dfGenderFix['Set'] == 1) & (dfGenderFix['Male'] == 0)])\n",
        "\n",
        "print(\"Jumlah nilai 1 di kolom 'Set' dan nilai 1 di kolom 'Male':\", count_1_1)\n",
        "print(\"Jumlah nilai 1 di kolom 'Set' dan nilai 0 di kolom 'Male':\", count_1_0)\n"
      ],
      "metadata": {
        "colab": {
          "base_uri": "https://localhost:8080/"
        },
        "id": "RVSTEdxgVKHp",
        "outputId": "b2e40ecc-2f34-431f-8aa2-ebfd3e04089b"
      },
      "execution_count": 24,
      "outputs": [
        {
          "output_type": "stream",
          "name": "stdout",
          "text": [
            "Jumlah nilai 1 di kolom 'Set' dan nilai 1 di kolom 'Male': 1231\n",
            "Jumlah nilai 1 di kolom 'Set' dan nilai 0 di kolom 'Male': 1769\n"
          ]
        }
      ]
    },
    {
      "cell_type": "code",
      "source": [
        "# Menyiapkan data untuk plot\n",
        "data = {'Label': ['Male', 'Female'],\n",
        "        'Count': [count_1_1, count_1_0]}\n",
        "\n",
        "# Membuat DataFrame dari data\n",
        "df_plot = pd.DataFrame(data)\n",
        "\n",
        "# Membuat plot menggunakan Seaborn\n",
        "sns.barplot(x='Label', y='Count', data=df_plot)\n",
        "\n",
        "# Menambahkan judul plot\n",
        "plt.title('Jumlah label train')\n",
        "\n",
        "# Menampilkan plot\n",
        "plt.show()"
      ],
      "metadata": {
        "colab": {
          "base_uri": "https://localhost:8080/",
          "height": 472
        },
        "id": "RflhrGbjVSCL",
        "outputId": "a05a3c6a-184d-4eac-9c92-0f45fc6be833"
      },
      "execution_count": 25,
      "outputs": [
        {
          "output_type": "display_data",
          "data": {
            "text/plain": [
              "<Figure size 640x480 with 1 Axes>"
            ],
            "image/png": "[encoded data removed]"
          },
          "metadata": {}
        }
      ]
    },
    {
      "cell_type": "code",
      "source": [],
      "metadata": {
        "id": "oztaqlnmk5Vs"
      },
      "execution_count": 25,
      "outputs": []
    },
    {
      "cell_type": "markdown",
      "source": [
        "MENCOBA UNTUK MENGATASI IMBALANCE PADA DATA TRAINING\n",
        "\n",
        "*  -dengan merubah 538 row male di kolom set menjadi data training\n",
        "*   -sehingga terjadi imbalance pada data test\n",
        "\n",
        "\n",
        "\n",
        "\n"
      ],
      "metadata": {
        "id": "DHm225ENk6D8"
      }
    },
    {
      "cell_type": "code",
      "source": [
        "# Mengidentifikasi indeks data yang memenuhi kondisi\n",
        "indices_to_update = dfGenderFix[(dfGenderFix['Set'] == 0) & (dfGenderFix['Male'] == 1)].index[:538]\n",
        "\n",
        "# Memperbarui nilai kolom 'Set' menjadi 1 untuk indeks yang diidentifikasi\n",
        "dfGenderFix.loc[indices_to_update, 'Set'] = 1\n",
        "\n",
        "# Menghitung jumlah nilai 1 di kolom 'Set' dan nilai 1 di kolom 'Male'\n",
        "count_1_1 = len(dfGenderFix[(dfGenderFix['Set'] == 1) & (dfGenderFix['Male'] == 1)])\n",
        "\n",
        "# Menghitung jumlah nilai 1 di kolom 'Set' dan nilai 0 di kolom 'Male'\n",
        "count_1_0 = len(dfGenderFix[(dfGenderFix['Set'] == 1) & (dfGenderFix['Male'] == 0)])\n",
        "\n",
        "print(\"Jumlah nilai 1 di kolom 'Set' dan nilai 1 di kolom 'Male':\", count_1_1)\n",
        "print(\"Jumlah nilai 1 di kolom 'Set' dan nilai 0 di kolom 'Male':\", count_1_0)"
      ],
      "metadata": {
        "colab": {
          "base_uri": "https://localhost:8080/"
        },
        "id": "orO1ysCUdfkK",
        "outputId": "32eed6d4-9190-4ff5-82ae-3429e061b10d"
      },
      "execution_count": 26,
      "outputs": [
        {
          "output_type": "stream",
          "name": "stdout",
          "text": [
            "Jumlah nilai 1 di kolom 'Set' dan nilai 1 di kolom 'Male': 1769\n",
            "Jumlah nilai 1 di kolom 'Set' dan nilai 0 di kolom 'Male': 1769\n"
          ]
        }
      ]
    },
    {
      "cell_type": "code",
      "source": [
        "# Menyiapkan data untuk plot\n",
        "data = {'Label': ['Male', 'Female'],\n",
        "        'Count': [count_1_1, count_1_0]}\n",
        "\n",
        "# Membuat DataFrame dari data\n",
        "df_plot = pd.DataFrame(data)\n",
        "\n",
        "# Membuat plot menggunakan Seaborn\n",
        "sns.barplot(x='Label', y='Count', data=df_plot)\n",
        "\n",
        "# Menambahkan judul plot\n",
        "plt.title('Jumlah label train')\n",
        "\n",
        "# Menampilkan plot\n",
        "plt.show()"
      ],
      "metadata": {
        "colab": {
          "base_uri": "https://localhost:8080/",
          "height": 472
        },
        "id": "zhdgE7tZjgxO",
        "outputId": "1820cdce-e9f8-4469-d148-2bc21bab087a"
      },
      "execution_count": 27,
      "outputs": [
        {
          "output_type": "display_data",
          "data": {
            "text/plain": [
              "<Figure size 640x480 with 1 Axes>"
            ],
            "image/png": "[encoded data removed]"
          },
          "metadata": {}
        }
      ]
    },
    {
      "cell_type": "code",
      "source": [
        "# Menghitung jumlah nilai 1 di kolom 'Set' dan nilai 1 di kolom 'Male'\n",
        "count_0_1 = len(dfGenderFix[(dfGenderFix['Set'] == 0) & (dfGenderFix['Male'] == 1)])\n",
        "\n",
        "# Menghitung jumlah nilai 1 di kolom 'Set' dan nilai 0 di kolom 'Male'\n",
        "count_0_0 = len(dfGenderFix[(dfGenderFix['Set'] == 0) & (dfGenderFix['Male'] == 0)])\n",
        "\n",
        "print(\"Jumlah nilai 0 di kolom 'Set' dan nilai 1 di kolom 'Male':\", count_0_1)\n",
        "print(\"Jumlah nilai 0 di kolom 'Set' dan nilai 0 di kolom 'Male':\", count_0_0)"
      ],
      "metadata": {
        "colab": {
          "base_uri": "https://localhost:8080/"
        },
        "id": "cUjCKTnTftWn",
        "outputId": "d5b04f9e-57be-4f17-ee2f-2cc35cddfa2c"
      },
      "execution_count": 28,
      "outputs": [
        {
          "output_type": "stream",
          "name": "stdout",
          "text": [
            "Jumlah nilai 0 di kolom 'Set' dan nilai 1 di kolom 'Male': 278\n",
            "Jumlah nilai 0 di kolom 'Set' dan nilai 0 di kolom 'Male': 1184\n"
          ]
        }
      ]
    },
    {
      "cell_type": "code",
      "source": [
        "# Menyiapkan data untuk plot\n",
        "data = {'Label': ['Male', 'Female'],\n",
        "        'Count': [count_0_1, count_0_0]}\n",
        "\n",
        "# Membuat DataFrame dari data\n",
        "df_plot = pd.DataFrame(data)\n",
        "\n",
        "# Membuat plot menggunakan Seaborn\n",
        "sns.barplot(x='Label', y='Count', data=df_plot)\n",
        "\n",
        "# Menambahkan judul plot\n",
        "plt.title('Jumlah label test')\n",
        "\n",
        "# Menampilkan plot\n",
        "plt.show()"
      ],
      "metadata": {
        "colab": {
          "base_uri": "https://localhost:8080/",
          "height": 472
        },
        "id": "WQIp4IsfNkMn",
        "outputId": "83e1ee60-a94a-40db-9647-353f3a33d214"
      },
      "execution_count": 29,
      "outputs": [
        {
          "output_type": "display_data",
          "data": {
            "text/plain": [
              "<Figure size 640x480 with 1 Axes>"
            ],
            "image/png": "[encoded data removed]"
          },
          "metadata": {}
        }
      ]
    },
    {
      "cell_type": "code",
      "source": [
        "dfGenderFix"
      ],
      "metadata": {
        "colab": {
          "base_uri": "https://localhost:8080/",
          "height": 424
        },
        "id": "_-6qV1hshRh5",
        "outputId": "fc4d0ef0-6f88-4707-bb56-e0bc586461e9"
      },
      "execution_count": 30,
      "outputs": [
        {
          "output_type": "execute_result",
          "data": {
            "text/plain": [
              "         imageId  Male  Set\n",
              "0     000051.jpg     1    1\n",
              "1     000052.jpg     1    1\n",
              "2     000065.jpg     1    1\n",
              "3     000166.jpg     1    1\n",
              "4     000198.jpg     0    1\n",
              "...          ...   ...  ...\n",
              "4995  202320.jpg     0    0\n",
              "4996  202340.jpg     0    0\n",
              "4997  202347.jpg     0    1\n",
              "4998  202357.jpg     0    0\n",
              "4999  202566.jpg     1    0\n",
              "\n",
              "[5000 rows x 3 columns]"
            ],
            "text/html": [
              "\n",
              "\n",
              "  <div id=\"df-c0612876-93c3-46ac-8f67-ee1561436957\">\n",
              "    <div class=\"colab-df-container\">\n",
              "      <div>\n",
              "<style scoped>\n",
              "    .dataframe tbody tr th:only-of-type {\n",
              "        vertical-align: middle;\n",
              "    }\n",
              "\n",
              "    .dataframe tbody tr th {\n",
              "        vertical-align: top;\n",
              "    }\n",
              "\n",
              "    .dataframe thead th {\n",
              "        text-align: right;\n",
              "    }\n",
              "</style>\n",
              "<table border=\"1\" class=\"dataframe\">\n",
              "  <thead>\n",
              "    <tr style=\"text-align: right;\">\n",
              "      <th></th>\n",
              "      <th>imageId</th>\n",
              "      <th>Male</th>\n",
              "      <th>Set</th>\n",
              "    </tr>\n",
              "  </thead>\n",
              "  <tbody>\n",
              "    <tr>\n",
              "      <th>0</th>\n",
              "      <td>000051.jpg</td>\n",
              "      <td>1</td>\n",
              "      <td>1</td>\n",
              "    </tr>\n",
              "    <tr>\n",
              "      <th>1</th>\n",
              "      <td>000052.jpg</td>\n",
              "      <td>1</td>\n",
              "      <td>1</td>\n",
              "    </tr>\n",
              "    <tr>\n",
              "      <th>2</th>\n",
              "      <td>000065.jpg</td>\n",
              "      <td>1</td>\n",
              "      <td>1</td>\n",
              "    </tr>\n",
              "    <tr>\n",
              "      <th>3</th>\n",
              "      <td>000166.jpg</td>\n",
              "      <td>1</td>\n",
              "      <td>1</td>\n",
              "    </tr>\n",
              "    <tr>\n",
              "      <th>4</th>\n",
              "      <td>000198.jpg</td>\n",
              "      <td>0</td>\n",
              "      <td>1</td>\n",
              "    </tr>\n",
              "    <tr>\n",
              "      <th>...</th>\n",
              "      <td>...</td>\n",
              "      <td>...</td>\n",
              "      <td>...</td>\n",
              "    </tr>\n",
              "    <tr>\n",
              "      <th>4995</th>\n",
              "      <td>202320.jpg</td>\n",
              "      <td>0</td>\n",
              "      <td>0</td>\n",
              "    </tr>\n",
              "    <tr>\n",
              "      <th>4996</th>\n",
              "      <td>202340.jpg</td>\n",
              "      <td>0</td>\n",
              "      <td>0</td>\n",
              "    </tr>\n",
              "    <tr>\n",
              "      <th>4997</th>\n",
              "      <td>202347.jpg</td>\n",
              "      <td>0</td>\n",
              "      <td>1</td>\n",
              "    </tr>\n",
              "    <tr>\n",
              "      <th>4998</th>\n",
              "      <td>202357.jpg</td>\n",
              "      <td>0</td>\n",
              "      <td>0</td>\n",
              "    </tr>\n",
              "    <tr>\n",
              "      <th>4999</th>\n",
              "      <td>202566.jpg</td>\n",
              "      <td>1</td>\n",
              "      <td>0</td>\n",
              "    </tr>\n",
              "  </tbody>\n",
              "</table>\n",
              "<p>5000 rows × 3 columns</p>\n",
              "</div>\n",
              "      <button class=\"colab-df-convert\" onclick=\"convertToInteractive('df-c0612876-93c3-46ac-8f67-ee1561436957')\"\n",
              "              title=\"Convert this dataframe to an interactive table.\"\n",
              "              style=\"display:none;\">\n",
              "\n",
              "  <svg xmlns=\"http://www.w3.org/2000/svg\" height=\"24px\"viewBox=\"0 0 24 24\"\n",
              "       width=\"24px\">\n",
              "    <path d=\"M0 0h24v24H0V0z\" fill=\"none\"/>\n",
              "    <path d=\"M18.56 5.44l.94 2.06.94-2.06 2.06-.94-2.06-.94-.94-2.06-.94 2.06-2.06.94zm-11 1L8.5 8.5l.94-2.06 2.06-.94-2.06-.94L8.5 2.5l-.94 2.06-2.06.94zm10 10l.94 2.06.94-2.06 2.06-.94-2.06-.94-.94-2.06-.94 2.06-2.06.94z\"/><path d=\"M17.41 7.96l-1.37-1.37c-.4-.4-.92-.59-1.43-.59-.52 0-1.04.2-1.43.59L10.3 9.45l-7.72 7.72c-.78.78-.78 2.05 0 2.83L4 21.41c.39.39.9.59 1.41.59.51 0 1.02-.2 1.41-.59l7.78-7.78 2.81-2.81c.8-.78.8-2.07 0-2.86zM5.41 20L4 18.59l7.72-7.72 1.47 1.35L5.41 20z\"/>\n",
              "  </svg>\n",
              "      </button>\n",
              "\n",
              "\n",
              "\n",
              "    <div id=\"df-0d027ae1-40de-4a1e-a0aa-a9c44379b999\">\n",
              "      <button class=\"colab-df-quickchart\" onclick=\"quickchart('df-0d027ae1-40de-4a1e-a0aa-a9c44379b999')\"\n",
              "              title=\"Suggest charts.\"\n",
              "              style=\"display:none;\">\n",
              "\n",
              "<svg xmlns=\"http://www.w3.org/2000/svg\" height=\"24px\"viewBox=\"0 0 24 24\"\n",
              "     width=\"24px\">\n",
              "    <g>\n",
              "        <path d=\"M19 3H5c-1.1 0-2 .9-2 2v14c0 1.1.9 2 2 2h14c1.1 0 2-.9 2-2V5c0-1.1-.9-2-2-2zM9 17H7v-7h2v7zm4 0h-2V7h2v10zm4 0h-2v-4h2v4z\"/>\n",
              "    </g>\n",
              "</svg>\n",
              "      </button>\n",
              "    </div>\n",
              "\n",
              "<style>\n",
              "  .colab-df-quickchart {\n",
              "    background-color: #E8F0FE;\n",
              "    border: none;\n",
              "    border-radius: 50%;\n",
              "    cursor: pointer;\n",
              "    display: none;\n",
              "    fill: #1967D2;\n",
              "    height: 32px;\n",
              "    padding: 0 0 0 0;\n",
              "    width: 32px;\n",
              "  }\n",
              "\n",
              "  .colab-df-quickchart:hover {\n",
              "    background-color: #E2EBFA;\n",
              "    box-shadow: 0px 1px 2px rgba(60, 64, 67, 0.3), 0px 1px 3px 1px rgba(60, 64, 67, 0.15);\n",
              "    fill: #174EA6;\n",
              "  }\n",
              "\n",
              "  [theme=dark] .colab-df-quickchart {\n",
              "    background-color: #3B4455;\n",
              "    fill: #D2E3FC;\n",
              "  }\n",
              "\n",
              "  [theme=dark] .colab-df-quickchart:hover {\n",
              "    background-color: #434B5C;\n",
              "    box-shadow: 0px 1px 3px 1px rgba(0, 0, 0, 0.15);\n",
              "    filter: drop-shadow(0px 1px 2px rgba(0, 0, 0, 0.3));\n",
              "    fill: #FFFFFF;\n",
              "  }\n",
              "</style>\n",
              "\n",
              "    <script>\n",
              "      async function quickchart(key) {\n",
              "        const containerElement = document.querySelector('#' + key);\n",
              "        const charts = await google.colab.kernel.invokeFunction(\n",
              "            'suggestCharts', [key], {});\n",
              "      }\n",
              "    </script>\n",
              "\n",
              "      <script>\n",
              "\n",
              "function displayQuickchartButton(domScope) {\n",
              "  let quickchartButtonEl =\n",
              "    domScope.querySelector('#df-0d027ae1-40de-4a1e-a0aa-a9c44379b999 button.colab-df-quickchart');\n",
              "  quickchartButtonEl.style.display =\n",
              "    google.colab.kernel.accessAllowed ? 'block' : 'none';\n",
              "}\n",
              "\n",
              "        displayQuickchartButton(document);\n",
              "      </script>\n",
              "      <style>\n",
              "    .colab-df-container {\n",
              "      display:flex;\n",
              "      flex-wrap:wrap;\n",
              "      gap: 12px;\n",
              "    }\n",
              "\n",
              "    .colab-df-convert {\n",
              "      background-color: #E8F0FE;\n",
              "      border: none;\n",
              "      border-radius: 50%;\n",
              "      cursor: pointer;\n",
              "      display: none;\n",
              "      fill: #1967D2;\n",
              "      height: 32px;\n",
              "      padding: 0 0 0 0;\n",
              "      width: 32px;\n",
              "    }\n",
              "\n",
              "    .colab-df-convert:hover {\n",
              "      background-color: #E2EBFA;\n",
              "      box-shadow: 0px 1px 2px rgba(60, 64, 67, 0.3), 0px 1px 3px 1px rgba(60, 64, 67, 0.15);\n",
              "      fill: #174EA6;\n",
              "    }\n",
              "\n",
              "    [theme=dark] .colab-df-convert {\n",
              "      background-color: #3B4455;\n",
              "      fill: #D2E3FC;\n",
              "    }\n",
              "\n",
              "    [theme=dark] .colab-df-convert:hover {\n",
              "      background-color: #434B5C;\n",
              "      box-shadow: 0px 1px 3px 1px rgba(0, 0, 0, 0.15);\n",
              "      filter: drop-shadow(0px 1px 2px rgba(0, 0, 0, 0.3));\n",
              "      fill: #FFFFFF;\n",
              "    }\n",
              "  </style>\n",
              "\n",
              "      <script>\n",
              "        const buttonEl =\n",
              "          document.querySelector('#df-c0612876-93c3-46ac-8f67-ee1561436957 button.colab-df-convert');\n",
              "        buttonEl.style.display =\n",
              "          google.colab.kernel.accessAllowed ? 'block' : 'none';\n",
              "\n",
              "        async function convertToInteractive(key) {\n",
              "          const element = document.querySelector('#df-c0612876-93c3-46ac-8f67-ee1561436957');\n",
              "          const dataTable =\n",
              "            await google.colab.kernel.invokeFunction('convertToInteractive',\n",
              "                                                     [key], {});\n",
              "          if (!dataTable) return;\n",
              "\n",
              "          const docLinkHtml = 'Like what you see? Visit the ' +\n",
              "            '<a target=\"_blank\" href=https://colab.research.google.com/notebooks/data_table.ipynb>data table notebook</a>'\n",
              "            + ' to learn more about interactive tables.';\n",
              "          element.innerHTML = '';\n",
              "          dataTable['output_type'] = 'display_data';\n",
              "          await google.colab.output.renderOutput(dataTable, element);\n",
              "          const docLink = document.createElement('div');\n",
              "          docLink.innerHTML = docLinkHtml;\n",
              "          element.appendChild(docLink);\n",
              "        }\n",
              "      </script>\n",
              "    </div>\n",
              "  </div>\n"
            ]
          },
          "metadata": {},
          "execution_count": 30
        }
      ]
    },
    {
      "cell_type": "code",
      "source": [],
      "metadata": {
        "id": "-zslZy1Nmj1b"
      },
      "execution_count": 30,
      "outputs": []
    },
    {
      "cell_type": "markdown",
      "source": [
        "MENYALIN DATA YANG ADA DIFOLDER IMAGES , KE FOLDER TRAIN DAN TEST ,DIMANA MASING\" FOLDER MEMILIKI FOLDER MALE DAN FEMALE"
      ],
      "metadata": {
        "id": "qQNSACzuml2i"
      }
    },
    {
      "cell_type": "code",
      "source": [
        "# Path ke folder Images\n",
        "images_folder = 'sample_data/Images'\n",
        "\n",
        "# Path ke folder train dan test\n",
        "train_folder = 'sample_data/train'\n",
        "test_folder = 'sample_data/test'\n",
        "\n",
        "# Buat folder train dan test jika belum ada\n",
        "os.makedirs(train_folder, exist_ok=True)\n",
        "os.makedirs(test_folder, exist_ok=True)\n",
        "\n",
        "# Buat folder male dan female di dalam folder train dan test\n",
        "train_male_folder = os.path.join(train_folder, 'male')\n",
        "train_female_folder = os.path.join(train_folder, 'female')\n",
        "os.makedirs(train_male_folder, exist_ok=True)\n",
        "os.makedirs(train_female_folder, exist_ok=True)\n",
        "\n",
        "test_male_folder = os.path.join(test_folder, 'male')\n",
        "test_female_folder = os.path.join(test_folder, 'female')\n",
        "os.makedirs(test_male_folder, exist_ok=True)\n",
        "os.makedirs(test_female_folder, exist_ok=True)\n",
        "\n",
        "# Salin gambar ke folder yang sesuai berdasarkan nilai kolom Male dan Set\n",
        "for index, row in dfGenderFix.iterrows():\n",
        "    image_id = row['imageId']\n",
        "    male = row['Male']\n",
        "    set_value = row['Set']\n",
        "\n",
        "    source_path = os.path.join(images_folder, image_id)\n",
        "    if male == 1:\n",
        "        if set_value == 1:\n",
        "            destination_folder = train_male_folder\n",
        "        else:\n",
        "            destination_folder = test_male_folder\n",
        "    else:\n",
        "        if set_value == 1:\n",
        "            destination_folder = train_female_folder\n",
        "        else:\n",
        "            destination_folder = test_female_folder\n",
        "\n",
        "    destination_path = os.path.join(destination_folder, image_id)\n",
        "    shutil.copyfile(source_path, destination_path)\n"
      ],
      "metadata": {
        "id": "EizWM-59jDn0"
      },
      "execution_count": 31,
      "outputs": []
    },
    {
      "cell_type": "code",
      "source": [],
      "metadata": {
        "id": "lj2MuMgXVlM0"
      },
      "execution_count": 31,
      "outputs": []
    },
    {
      "cell_type": "markdown",
      "source": [
        "**MODELLING**"
      ],
      "metadata": {
        "id": "ChZ1YqVVnuSK"
      }
    },
    {
      "cell_type": "code",
      "source": [],
      "metadata": {
        "id": "G6ky89Lknx0c"
      },
      "execution_count": null,
      "outputs": []
    },
    {
      "cell_type": "markdown",
      "source": [
        "1.   VGG\n",
        "2.   VGG pre-trained\n",
        "3.   RESNET\n",
        "4.   RESNET pre-trained\n",
        "5.   GOOGLENET\n",
        "6.   GOOGLENET pre-trained\n",
        "\n",
        "\n",
        "\n",
        "\n",
        "\n"
      ],
      "metadata": {
        "id": "MqaixjCinzB5"
      }
    },
    {
      "cell_type": "code",
      "source": [],
      "metadata": {
        "id": "RCpx5f7ytYWJ"
      },
      "execution_count": null,
      "outputs": []
    },
    {
      "cell_type": "markdown",
      "source": [
        "1.VGG pre-trained"
      ],
      "metadata": {
        "id": "z7f3kOsVF2lH"
      }
    },
    {
      "cell_type": "code",
      "source": [
        "# Define the training parameters\n",
        "batch_size = 128\n",
        "learning_rate = 0.001\n",
        "epochs = 10\n",
        "\n",
        "# Define the transformation\n",
        "train_transform = transforms.Compose([\n",
        "    transforms.Resize(256),\n",
        "    transforms.RandomResizedCrop(224),\n",
        "    transforms.RandomRotation(45),\n",
        "    transforms.RandomHorizontalFlip(),\n",
        "    transforms.ToTensor(),\n",
        "    transforms.Normalize([0.485, 0.456, 0.406], [0.229, 0.224, 0.225])\n",
        "])\n",
        "\n",
        "# Define the validation transformation\n",
        "val_transform = transforms.Compose([\n",
        "    transforms.Resize(256),\n",
        "    transforms.CenterCrop(224),\n",
        "    transforms.ToTensor(),\n",
        "    transforms.Normalize([0.485, 0.456, 0.406], [0.229, 0.224, 0.225])\n",
        "])\n",
        "\n",
        "# Load the training dataset\n",
        "train_dataset = datasets.ImageFolder('sample_data/train', transform=train_transform)\n",
        "train_loader = DataLoader(train_dataset, batch_size=batch_size, shuffle=True)\n",
        "\n",
        "# Load the validation dataset\n",
        "val_dataset = datasets.ImageFolder('sample_data/test', transform=val_transform)\n",
        "val_loader = DataLoader(val_dataset, batch_size=batch_size, shuffle=False)\n",
        "\n",
        "# Define the model architecture\n",
        "modelvgg = models.vgg16(pretrained=False)\n",
        "num_features = modelvgg.classifier[6].in_features\n",
        "modelvgg.classifier[6] = nn.Linear(num_features, 2)\n",
        "\n",
        "# Move the model to GPU if available\n",
        "device = torch.device(\"cuda\" if torch.cuda.is_available() else \"cpu\")\n",
        "modelvgg = modelvgg.to(device)\n",
        "\n",
        "# Define the loss function and optimizer\n",
        "criterion = nn.CrossEntropyLoss()\n",
        "optimizer = optim.Adam(modelvgg.parameters(), lr=learning_rate)\n",
        "\n",
        "# Lists to store the training and validation losses per epoch\n",
        "train_losses = []\n",
        "val_losses = []\n",
        "\n",
        "# Lists to store the training and validation accuracies per epoch\n",
        "train_accuracies = []\n",
        "val_accuracies = []\n",
        "\n",
        "# Training loop\n",
        "for epoch in range(epochs):\n",
        "    running_loss = 0.0\n",
        "    correct = 0\n",
        "    total = 0\n",
        "\n",
        "    # Training phase\n",
        "    modelvgg.train()\n",
        "    for i, data in enumerate(train_loader, 0):\n",
        "        inputs, labels = data\n",
        "        inputs, labels = inputs.to(device), labels.to(device)\n",
        "\n",
        "        optimizer.zero_grad()\n",
        "        outputs = modelvgg(inputs)\n",
        "        loss = criterion(outputs, labels)\n",
        "        loss.backward()\n",
        "        optimizer.step()\n",
        "\n",
        "        running_loss += loss.item()\n",
        "        train_losses.append(loss.item())\n",
        "\n",
        "        _, predicted = torch.max(outputs.data, 1)\n",
        "        total += labels.size(0)\n",
        "        correct += (predicted == labels).sum().item()\n",
        "\n",
        "        if (i+1) % 10 == 0:\n",
        "            print(f\"Epoch [{epoch+1}/{epochs}], Step [{i+1}/{len(train_loader)}], Loss: {running_loss / 10:.4f}\")\n",
        "            running_loss = 0.0\n",
        "\n",
        "    train_accuracy = 100 * correct / total\n",
        "    train_accuracies.append(train_accuracy)\n",
        "\n",
        "    # Validation phase\n",
        "    modelvgg.eval()\n",
        "    correct = 0\n",
        "    total = 0\n",
        "    val_running_loss = 0.0\n",
        "\n",
        "    with torch.no_grad():\n",
        "        for data in val_loader:\n",
        "            inputs, labels = data\n",
        "            inputs, labels = inputs.to(device), labels.to(device)\n",
        "\n",
        "            outputs = modelvgg(inputs)\n",
        "            _, predicted = torch.max(outputs.data, 1)\n",
        "\n",
        "            total += labels.size(0)\n",
        "            correct += (predicted == labels).sum().item()\n",
        "\n",
        "            loss = criterion(outputs, labels)\n",
        "            val_running_loss += loss.item()\n",
        "            val_losses.append(loss.item())\n",
        "\n",
        "    val_accuracy = 100 * correct / total\n",
        "    val_accuracies.append(val_accuracy)\n",
        "\n",
        "    print(f\"Epoch [{epoch+1}/{epochs}], Train Loss: {running_loss / len(train_loader):.4f}, Val Loss: {val_running_loss / len(val_loader):.4f}, Train Accuracy: {train_accuracy:.2f}%, Val Accuracy: {val_accuracy:.2f}%\")\n",
        "\n",
        "print('Finished Training')\n",
        "\n",
        "# Plot training and validation losses\n",
        "plt.plot(train_losses, label='Train Loss')\n",
        "plt.plot(val_losses, label='Validation Loss')\n",
        "plt.title('Training and Validation Loss')\n",
        "plt.xlabel('Epoch')\n",
        "plt.ylabel('Loss')\n",
        "plt.legend()\n",
        "plt.show()\n",
        "\n",
        "# Plot training and validation accuracies\n",
        "plt.plot(train_accuracies, label='Train Accuracy')\n",
        "plt.plot(val_accuracies, label='Validation Accuracy')\n",
        "plt.title('Training and Validation Accuracy')\n",
        "plt.xlabel('Epoch')\n",
        "plt.ylabel('Accuracy')\n",
        "plt.legend()\n",
        "plt.show()\n"
      ],
      "metadata": {
        "id": "GM_RZbA8U0ue",
        "colab": {
          "base_uri": "https://localhost:8080/",
          "height": 165
        },
        "outputId": "da82640e-917d-4d81-fdfb-a4cd9045a834"
      },
      "execution_count": null,
      "outputs": [
        {
          "output_type": "execute_result",
          "data": {
            "text/plain": [
              "'\\n# Define the training parameters\\nbatch_size = 128\\nlearning_rate = 0.001\\nepochs = 10\\n\\n# Define the transformation\\ntrain_transform = transforms.Compose([\\n    transforms.Resize(256),\\n    transforms.RandomResizedCrop(224),\\n    transforms.RandomRotation(45),\\n    transforms.RandomHorizontalFlip(),\\n    transforms.ToTensor(),\\n    transforms.Normalize([0.485, 0.456, 0.406], [0.229, 0.224, 0.225])\\n])\\n\\n# Define the validation transformation\\nval_transform = transforms.Compose([\\n    transforms.Resize(256),\\n    transforms.CenterCrop(224),\\n    transforms.ToTensor(),\\n    transforms.Normalize([0.485, 0.456, 0.406], [0.229, 0.224, 0.225])\\n])\\n\\n# Load the training dataset\\ntrain_dataset = datasets.ImageFolder(\\'sample_data/train\\', transform=train_transform)\\ntrain_loader = DataLoader(train_dataset, batch_size=batch_size, shuffle=True)\\n\\n# Load the validation dataset\\nval_dataset = datasets.ImageFolder(\\'sample_data/test\\', transform=val_transform)\\nval_loader = DataLoader(val_dataset, batch_size=batch_size, shuffle=False)\\n\\n# Define the model architecture\\nmodelvgg = models.vgg16(pretrained=False)\\nnum_features = modelvgg.classifier[6].in_features\\nmodelvgg.classifier[6] = nn.Linear(num_features, 2)\\n\\n# Move the model to GPU if available\\ndevice = torch.device(\"cuda\" if torch.cuda.is_available() else \"cpu\")\\nmodelvgg = modelvgg.to(device)\\n\\n# Define the loss function and optimizer\\ncriterion = nn.CrossEntropyLoss()\\noptimizer = optim.Adam(modelvgg.parameters(), lr=learning_rate)\\n\\n# Lists to store the training and validation losses per epoch\\ntrain_losses = []\\nval_losses = []\\n\\n# Lists to store the training and validation accuracies per epoch\\ntrain_accuracies = []\\nval_accuracies = []\\n\\n# Training loop\\nfor epoch in range(epochs):\\n    running_loss = 0.0\\n    correct = 0\\n    total = 0\\n\\n    # Training phase\\n    modelvgg.train()\\n    for i, data in enumerate(train_loader, 0):\\n        inputs, labels = data\\n        inputs, labels = inputs.to(device), labels.to(device)\\n\\n        optimizer.zero_grad()\\n        outputs = modelvgg(inputs)\\n        loss = criterion(outputs, labels)\\n        loss.backward()\\n        optimizer.step()\\n\\n        running_loss += loss.item()\\n        train_losses.append(loss.item())\\n\\n        _, predicted = torch.max(outputs.data, 1)\\n        total += labels.size(0)\\n        correct += (predicted == labels).sum().item()\\n\\n        if (i+1) % 10 == 0:\\n            print(f\"Epoch [{epoch+1}/{epochs}], Step [{i+1}/{len(train_loader)}], Loss: {running_loss / 10:.4f}\")\\n            running_loss = 0.0\\n\\n    train_accuracy = 100 * correct / total\\n    train_accuracies.append(train_accuracy)\\n\\n    # Validation phase\\n    modelvgg.eval()\\n    correct = 0\\n    total = 0\\n    val_running_loss = 0.0\\n\\n    with torch.no_grad():\\n        for data in val_loader:\\n            inputs, labels = data\\n            inputs, labels = inputs.to(device), labels.to(device)\\n\\n            outputs = modelvgg(inputs)\\n            _, predicted = torch.max(outputs.data, 1)\\n\\n            total += labels.size(0)\\n            correct += (predicted == labels).sum().item()\\n\\n            loss = criterion(outputs, labels)\\n            val_running_loss += loss.item()\\n            val_losses.append(loss.item())\\n\\n    val_accuracy = 100 * correct / total\\n    val_accuracies.append(val_accuracy)\\n\\n    print(f\"Epoch [{epoch+1}/{epochs}], Train Loss: {running_loss / len(train_loader):.4f}, Val Loss: {val_running_loss / len(val_loader):.4f}, Train Accuracy: {train_accuracy:.2f}%, Val Accuracy: {val_accuracy:.2f}%\")\\n\\nprint(\\'Finished Training\\')\\n\\n# Plot training and validation losses\\nplt.plot(train_losses, label=\\'Train Loss\\')\\nplt.plot(val_losses, label=\\'Validation Loss\\')\\nplt.title(\\'Training and Validation Loss\\')\\nplt.xlabel(\\'Epoch\\')\\nplt.ylabel(\\'Loss\\')\\nplt.legend()\\nplt.show()\\n\\n# Plot training and validation accuracies\\nplt.plot(train_accuracies, label=\\'Train Accuracy\\')\\nplt.plot(val_accuracies, label=\\'Validation Accuracy\\')\\nplt.title(\\'Training and Validation Accuracy\\')\\nplt.xlabel(\\'Epoch\\')\\nplt.ylabel(\\'Accuracy\\')\\nplt.legend()\\nplt.show()\\n'"
            ],
            "application/vnd.google.colaboratory.intrinsic+json": {
              "type": "string"
            }
          },
          "metadata": {},
          "execution_count": 39
        }
      ]
    },
    {
      "cell_type": "code",
      "source": [
        "\n",
        "def plot_confusion_matrix(confusion_matrix):\n",
        "    \"\"\"\n",
        "    Plots a confusion matrix.\n",
        "\n",
        "    Args:\n",
        "        confusion_matrix (numpy.ndarray): The confusion matrix.\n",
        "    \"\"\"\n",
        "\n",
        "    fig, ax = plt.subplots()\n",
        "    im = ax.imshow(confusion_matrix, cmap=\"Blues\")\n",
        "    ax.set_xlabel(\"Predicted label\")\n",
        "    ax.set_ylabel(\"True label\")\n",
        "    ax.set_xticks(np.arange(len(confusion_matrix)))\n",
        "    ax.set_yticks(np.arange(len(confusion_matrix)))\n",
        "    ax.set_title(\"Confusion matrix\")\n",
        "    for i in range(len(confusion_matrix)):\n",
        "        for j in range(len(confusion_matrix)):\n",
        "            ax.text(j, i, confusion_matrix[i, j], color=\"black\", size=10)\n",
        "    fig.tight_layout()\n",
        "    plt.show()\n",
        "\n",
        "\n",
        "if __name__ == \"__main__\":\n",
        "    # Compute and print the confusion matrix\n",
        "    modelvgg.eval()\n",
        "    predicted_labels = []\n",
        "    true_labels = []\n",
        "\n",
        "    with torch.no_grad():\n",
        "        for data in val_loader:\n",
        "            inputs, labels = data\n",
        "            inputs, labels = inputs.to(device), labels.to(device)\n",
        "\n",
        "            outputs = modelvgg(inputs)\n",
        "            _, predicted = torch.max(outputs.data, 1)\n",
        "\n",
        "            predicted_labels.extend(predicted.cpu().numpy())\n",
        "            true_labels.extend(labels.cpu().numpy())\n",
        "\n",
        "    confusion_mtx = confusion_matrix(true_labels, predicted_labels)\n",
        "\n",
        "    # Plot the confusion matrix\n",
        "    plot_confusion_matrix(confusion_mtx)"
      ],
      "metadata": {
        "id": "35JDn-DgE0zg",
        "colab": {
          "base_uri": "https://localhost:8080/",
          "height": 165
        },
        "outputId": "f098d2e3-5308-41d4-80a8-7ec5250ca24b"
      },
      "execution_count": null,
      "outputs": [
        {
          "output_type": "execute_result",
          "data": {
            "text/plain": [
              "'\\ndef plot_confusion_matrix(confusion_matrix):\\n    \"\"\"\\n    Plots a confusion matrix.\\n\\n    Args:\\n        confusion_matrix (numpy.ndarray): The confusion matrix.\\n    \"\"\"\\n\\n    fig, ax = plt.subplots()\\n    im = ax.imshow(confusion_matrix, cmap=\"Blues\")\\n    ax.set_xlabel(\"Predicted label\")\\n    ax.set_ylabel(\"True label\")\\n    ax.set_xticks(np.arange(len(confusion_matrix)))\\n    ax.set_yticks(np.arange(len(confusion_matrix)))\\n    ax.set_title(\"Confusion matrix\")\\n    for i in range(len(confusion_matrix)):\\n        for j in range(len(confusion_matrix)):\\n            ax.text(j, i, confusion_matrix[i, j], color=\"black\", size=10)\\n    fig.tight_layout()\\n    plt.show()\\n\\n\\nif __name__ == \"__main__\":\\n    # Compute and print the confusion matrix\\n    modelvgg.eval()\\n    predicted_labels = []\\n    true_labels = []\\n\\n    with torch.no_grad():\\n        for data in val_loader:\\n            inputs, labels = data\\n            inputs, labels = inputs.to(device), labels.to(device)\\n\\n            outputs = modelvgg(inputs)\\n            _, predicted = torch.max(outputs.data, 1)\\n\\n            predicted_labels.extend(predicted.cpu().numpy())\\n            true_labels.extend(labels.cpu().numpy())\\n\\n    confusion_mtx = confusion_matrix(true_labels, predicted_labels)\\n\\n    # Plot the confusion matrix\\n    plot_confusion_matrix(confusion_mtx)\\n    '"
            ],
            "application/vnd.google.colaboratory.intrinsic+json": {
              "type": "string"
            }
          },
          "metadata": {},
          "execution_count": 40
        }
      ]
    },
    {
      "cell_type": "code",
      "source": [
        "# Path tujuan untuk menyimpan model\n",
        "save_path = '/content/drive/MyDrive/model_vgg.pth'\n",
        "\n",
        "# Simpan model\n",
        "torch.save(modelvgg.state_dict(), save_path)\n",
        "\n",
        "print('Model telah disimpan di:', save_path)"
      ],
      "metadata": {
        "colab": {
          "base_uri": "https://localhost:8080/",
          "height": 55
        },
        "id": "BcW4gA21vYLX",
        "outputId": "ffc9104f-9cb2-4b3c-b48e-96e491d115a1"
      },
      "execution_count": null,
      "outputs": [
        {
          "output_type": "execute_result",
          "data": {
            "text/plain": [
              "\"\\n# Path tujuan untuk menyimpan model\\nsave_path = '/content/drive/MyDrive/model_vgg.pth'\\n\\n# Simpan model\\ntorch.save(modelvgg.state_dict(), save_path)\\n\\nprint('Model telah disimpan di:', save_path)\\n\""
            ],
            "application/vnd.google.colaboratory.intrinsic+json": {
              "type": "string"
            }
          },
          "metadata": {},
          "execution_count": 41
        }
      ]
    },
    {
      "cell_type": "code",
      "source": [],
      "metadata": {
        "id": "ioqbGUteE044"
      },
      "execution_count": null,
      "outputs": []
    },
    {
      "cell_type": "markdown",
      "source": [
        "2.VGG pre-trained"
      ],
      "metadata": {
        "id": "kD4sZsZgs_bt"
      }
    },
    {
      "cell_type": "code",
      "source": [
        "# Define the training parameters\n",
        "batch_size = 128\n",
        "learning_rate = 0.001\n",
        "epochs = 10\n",
        "\n",
        "# Define the transformation\n",
        "train_transform = transforms.Compose([\n",
        "    transforms.Resize(256),\n",
        "    transforms.RandomResizedCrop(224),\n",
        "    transforms.RandomRotation(45),\n",
        "    transforms.RandomHorizontalFlip(),\n",
        "    transforms.ToTensor(),\n",
        "    transforms.Normalize([0.485, 0.456, 0.406], [0.229, 0.224, 0.225])\n",
        "])\n",
        "\n",
        "# Define the validation transformation\n",
        "val_transform = transforms.Compose([\n",
        "    transforms.Resize(256),\n",
        "    transforms.CenterCrop(224),\n",
        "    transforms.ToTensor(),\n",
        "    transforms.Normalize([0.485, 0.456, 0.406], [0.229, 0.224, 0.225])\n",
        "])\n",
        "\n",
        "# Load the training dataset\n",
        "train_dataset = datasets.ImageFolder('sample_data/train', transform=train_transform)\n",
        "train_loader = torch.utils.data.DataLoader(train_dataset, batch_size=batch_size, shuffle=True)\n",
        "\n",
        "# Load the validation dataset\n",
        "val_dataset = datasets.ImageFolder('sample_data/test', transform=val_transform)\n",
        "val_loader = torch.utils.data.DataLoader(val_dataset, batch_size=batch_size, shuffle=False)\n",
        "\n",
        "# Define the model architecture\n",
        "modelvggweight = models.vgg16(pretrained=True)  # Use pretrained weights\n",
        "num_features = modelvggweight.classifier[6].in_features\n",
        "modelvggweight.classifier[6] = nn.Linear(num_features, 2)\n",
        "\n",
        "# Move the model to GPU if available\n",
        "device = torch.device(\"cuda\" if torch.cuda.is_available() else \"cpu\")\n",
        "modelvggweight = modelvggweight.to(device)\n",
        "\n",
        "# Define the loss function and optimizer\n",
        "criterion = nn.CrossEntropyLoss()\n",
        "optimizer = optim.Adam(modelvggweight.parameters(), lr=learning_rate)\n",
        "\n",
        "# Lists to store the training and validation losses per epoch\n",
        "train_losses = []\n",
        "val_losses = []\n",
        "\n",
        "# Lists to store the training and validation accuracies per epoch\n",
        "train_accuracies = []\n",
        "val_accuracies = []\n",
        "\n",
        "# Training loop\n",
        "for epoch in range(epochs):\n",
        "    running_loss = 0.0\n",
        "    correct = 0\n",
        "    total = 0\n",
        "\n",
        "    # Training phase\n",
        "    modelvggweight.train()\n",
        "    for i, data in enumerate(train_loader, 0):\n",
        "        inputs, labels = data\n",
        "        inputs, labels = inputs.to(device), labels.to(device)\n",
        "\n",
        "        optimizer.zero_grad()\n",
        "        outputs = modelvggweight(inputs)\n",
        "        loss = criterion(outputs, labels)\n",
        "        loss.backward()\n",
        "        optimizer.step()\n",
        "\n",
        "        running_loss += loss.item()\n",
        "        train_losses.append(loss.item())\n",
        "\n",
        "        _, predicted = torch.max(outputs.data, 1)\n",
        "        total += labels.size(0)\n",
        "        correct += (predicted == labels).sum().item()\n",
        "\n",
        "        if (i+1) % 10 == 0:\n",
        "            print(f\"Epoch [{epoch+1}/{epochs}], Step [{i+1}/{len(train_loader)}], Loss: {running_loss / 10:.4f}\")\n",
        "            running_loss = 0.0\n",
        "\n",
        "    train_accuracy = 100 * correct / total\n",
        "    train_accuracies.append(train_accuracy)\n",
        "\n",
        "    # Validation phase\n",
        "    modelvggweight.eval()\n",
        "    correct = 0\n",
        "    total = 0\n",
        "    val_running_loss = 0.0\n",
        "\n",
        "    with torch.no_grad():\n",
        "        for data in val_loader:\n",
        "            inputs, labels = data\n",
        "            inputs, labels = inputs.to(device), labels.to(device)\n",
        "\n",
        "            outputs = modelvggweight(inputs)\n",
        "            _, predicted = torch.max(outputs.data, 1)\n",
        "\n",
        "            total += labels.size(0)\n",
        "            correct += (predicted == labels).sum().item()\n",
        "\n",
        "            loss = criterion(outputs, labels)\n",
        "            val_running_loss += loss.item()\n",
        "            val_losses.append(loss.item())\n",
        "\n",
        "    val_accuracy = 100 * correct / total\n",
        "    val_accuracies.append(val_accuracy)\n",
        "\n",
        "    print(f\"Epoch [{epoch+1}/{epochs}], Train Loss: {running_loss / len(train_loader):.4f}, Val Loss: {val_running_loss / len(val_loader):.4f}, Train Accuracy: {train_accuracy:.2f}%, Val Accuracy: {val_accuracy:.2f}%\")\n",
        "\n",
        "print('Finished Training')\n",
        "\n",
        "# Plot training and validation losses\n",
        "plt.plot(train_losses, label='Train Loss')\n",
        "plt.plot(val_losses, label='Validation Loss')\n",
        "plt.title('Training and Validation Loss')\n",
        "plt.xlabel('Epoch')\n",
        "plt.ylabel('Loss')\n",
        "plt.legend()\n",
        "plt.show()\n",
        "\n",
        "# Plot training and validation accuracies\n",
        "plt.plot(train_accuracies, label='Train Accuracy')\n",
        "plt.plot(val_accuracies, label='Validation Accuracy')\n",
        "plt.title('Training and Validation Accuracy')\n",
        "plt.xlabel('Epoch')\n",
        "plt.ylabel('Accuracy')\n",
        "plt.legend()\n",
        "plt.show()\n"
      ],
      "metadata": {
        "id": "GyRW5KhuE0-N",
        "colab": {
          "base_uri": "https://localhost:8080/",
          "height": 165
        },
        "outputId": "0bc4b5b9-62f8-4cbf-8187-e6dacc6ffb6b"
      },
      "execution_count": null,
      "outputs": [
        {
          "output_type": "execute_result",
          "data": {
            "text/plain": [
              "'\\n# Define the training parameters\\nbatch_size = 128\\nlearning_rate = 0.001\\nepochs = 10\\n\\n# Define the transformation\\ntrain_transform = transforms.Compose([\\n    transforms.Resize(256),\\n    transforms.RandomResizedCrop(224),\\n    transforms.RandomRotation(45),\\n    transforms.RandomHorizontalFlip(),\\n    transforms.ToTensor(),\\n    transforms.Normalize([0.485, 0.456, 0.406], [0.229, 0.224, 0.225])\\n])\\n\\n# Define the validation transformation\\nval_transform = transforms.Compose([\\n    transforms.Resize(256),\\n    transforms.CenterCrop(224),\\n    transforms.ToTensor(),\\n    transforms.Normalize([0.485, 0.456, 0.406], [0.229, 0.224, 0.225])\\n])\\n\\n# Load the training dataset\\ntrain_dataset = datasets.ImageFolder(\\'sample_data/train\\', transform=train_transform)\\ntrain_loader = torch.utils.data.DataLoader(train_dataset, batch_size=batch_size, shuffle=True)\\n\\n# Load the validation dataset\\nval_dataset = datasets.ImageFolder(\\'sample_data/test\\', transform=val_transform)\\nval_loader = torch.utils.data.DataLoader(val_dataset, batch_size=batch_size, shuffle=False)\\n\\n# Define the model architecture\\nmodelvggweight = models.vgg16(pretrained=True)  # Use pretrained weights\\nnum_features = modelvggweight.classifier[6].in_features\\nmodelvggweight.classifier[6] = nn.Linear(num_features, 2)\\n\\n# Move the model to GPU if available\\ndevice = torch.device(\"cuda\" if torch.cuda.is_available() else \"cpu\")\\nmodelvggweight = modelvggweight.to(device)\\n\\n# Define the loss function and optimizer\\ncriterion = nn.CrossEntropyLoss()\\noptimizer = optim.Adam(modelvggweight.parameters(), lr=learning_rate)\\n\\n# Lists to store the training and validation losses per epoch\\ntrain_losses = []\\nval_losses = []\\n\\n# Lists to store the training and validation accuracies per epoch\\ntrain_accuracies = []\\nval_accuracies = []\\n\\n# Training loop\\nfor epoch in range(epochs):\\n    running_loss = 0.0\\n    correct = 0\\n    total = 0\\n\\n    # Training phase\\n    modelvggweight.train()\\n    for i, data in enumerate(train_loader, 0):\\n        inputs, labels = data\\n        inputs, labels = inputs.to(device), labels.to(device)\\n\\n        optimizer.zero_grad()\\n        outputs = modelvggweight(inputs)\\n        loss = criterion(outputs, labels)\\n        loss.backward()\\n        optimizer.step()\\n\\n        running_loss += loss.item()\\n        train_losses.append(loss.item())\\n\\n        _, predicted = torch.max(outputs.data, 1)\\n        total += labels.size(0)\\n        correct += (predicted == labels).sum().item()\\n\\n        if (i+1) % 10 == 0:\\n            print(f\"Epoch [{epoch+1}/{epochs}], Step [{i+1}/{len(train_loader)}], Loss: {running_loss / 10:.4f}\")\\n            running_loss = 0.0\\n\\n    train_accuracy = 100 * correct / total\\n    train_accuracies.append(train_accuracy)\\n\\n    # Validation phase\\n    modelvggweight.eval()\\n    correct = 0\\n    total = 0\\n    val_running_loss = 0.0\\n\\n    with torch.no_grad():\\n        for data in val_loader:\\n            inputs, labels = data\\n            inputs, labels = inputs.to(device), labels.to(device)\\n\\n            outputs = modelvggweight(inputs)\\n            _, predicted = torch.max(outputs.data, 1)\\n\\n            total += labels.size(0)\\n            correct += (predicted == labels).sum().item()\\n\\n            loss = criterion(outputs, labels)\\n            val_running_loss += loss.item()\\n            val_losses.append(loss.item())\\n\\n    val_accuracy = 100 * correct / total\\n    val_accuracies.append(val_accuracy)\\n\\n    print(f\"Epoch [{epoch+1}/{epochs}], Train Loss: {running_loss / len(train_loader):.4f}, Val Loss: {val_running_loss / len(val_loader):.4f}, Train Accuracy: {train_accuracy:.2f}%, Val Accuracy: {val_accuracy:.2f}%\")\\n\\nprint(\\'Finished Training\\')\\n\\n# Plot training and validation losses\\nplt.plot(train_losses, label=\\'Train Loss\\')\\nplt.plot(val_losses, label=\\'Validation Loss\\')\\nplt.title(\\'Training and Validation Loss\\')\\nplt.xlabel(\\'Epoch\\')\\nplt.ylabel(\\'Loss\\')\\nplt.legend()\\nplt.show()\\n\\n# Plot training and validation accuracies\\nplt.plot(train_accuracies, label=\\'Train Accuracy\\')\\nplt.plot(val_accuracies, label=\\'Validation Accuracy\\')\\nplt.title(\\'Training and Validation Accuracy\\')\\nplt.xlabel(\\'Epoch\\')\\nplt.ylabel(\\'Accuracy\\')\\nplt.legend()\\nplt.show()\\n'"
            ],
            "application/vnd.google.colaboratory.intrinsic+json": {
              "type": "string"
            }
          },
          "metadata": {},
          "execution_count": 42
        }
      ]
    },
    {
      "cell_type": "code",
      "source": [
        "\n",
        "def plot_confusion_matrix(confusion_matrix):\n",
        "    \"\"\"\n",
        "    Plots a confusion matrix.\n",
        "\n",
        "    Args:\n",
        "        confusion_matrix (numpy.ndarray): The confusion matrix.\n",
        "    \"\"\"\n",
        "\n",
        "    fig, ax = plt.subplots()\n",
        "    im = ax.imshow(confusion_matrix, cmap=\"Blues\")\n",
        "    ax.set_xlabel(\"Predicted label\")\n",
        "    ax.set_ylabel(\"True label\")\n",
        "    ax.set_xticks(np.arange(len(confusion_matrix)))\n",
        "    ax.set_yticks(np.arange(len(confusion_matrix)))\n",
        "    ax.set_title(\"Confusion matrix\")\n",
        "    for i in range(len(confusion_matrix)):\n",
        "        for j in range(len(confusion_matrix)):\n",
        "            ax.text(j, i, confusion_matrix[i, j], color=\"black\", size=10)\n",
        "    fig.tight_layout()\n",
        "    plt.show()\n",
        "\n",
        "# Compute and print the confusion matrix\n",
        "modelvggweight.eval()\n",
        "predicted_labels = []\n",
        "true_labels = []\n",
        "\n",
        "with torch.no_grad():\n",
        "    for data in val_loader:\n",
        "        inputs, labels = data\n",
        "        inputs, labels = inputs.to(device), labels.to(device)\n",
        "\n",
        "        outputs = modelvggweight(inputs)\n",
        "        _, predicted = torch.max(outputs.data, 1)\n",
        "\n",
        "        predicted_labels.extend(predicted.cpu().numpy())\n",
        "        true_labels.extend(labels.cpu().numpy())\n",
        "\n",
        "confusion_mtx = confusion_matrix(true_labels, predicted_labels)\n",
        "\n",
        "# Plot the confusion matrix\n",
        "plot_confusion_matrix(confusion_mtx)\n"
      ],
      "metadata": {
        "id": "qcW32z84BvY-",
        "colab": {
          "base_uri": "https://localhost:8080/",
          "height": 165
        },
        "outputId": "14b5ac26-ffd7-4d27-91f3-9b06c372bf20"
      },
      "execution_count": null,
      "outputs": [
        {
          "output_type": "execute_result",
          "data": {
            "text/plain": [
              "'\\ndef plot_confusion_matrix(confusion_matrix):\\n    \"\"\"\\n    Plots a confusion matrix.\\n\\n    Args:\\n        confusion_matrix (numpy.ndarray): The confusion matrix.\\n    \"\"\"\\n\\n    fig, ax = plt.subplots()\\n    im = ax.imshow(confusion_matrix, cmap=\"Blues\")\\n    ax.set_xlabel(\"Predicted label\")\\n    ax.set_ylabel(\"True label\")\\n    ax.set_xticks(np.arange(len(confusion_matrix)))\\n    ax.set_yticks(np.arange(len(confusion_matrix)))\\n    ax.set_title(\"Confusion matrix\")\\n    for i in range(len(confusion_matrix)):\\n        for j in range(len(confusion_matrix)):\\n            ax.text(j, i, confusion_matrix[i, j], color=\"black\", size=10)\\n    fig.tight_layout()\\n    plt.show()\\n\\n# Compute and print the confusion matrix\\nmodelvggweight.eval()\\npredicted_labels = []\\ntrue_labels = []\\n\\nwith torch.no_grad():\\n    for data in val_loader:\\n        inputs, labels = data\\n        inputs, labels = inputs.to(device), labels.to(device)\\n\\n        outputs = modelvggweight(inputs)\\n        _, predicted = torch.max(outputs.data, 1)\\n\\n        predicted_labels.extend(predicted.cpu().numpy())\\n        true_labels.extend(labels.cpu().numpy())\\n\\nconfusion_mtx = confusion_matrix(true_labels, predicted_labels)\\n\\n# Plot the confusion matrix\\nplot_confusion_matrix(confusion_mtx)\\n'"
            ],
            "application/vnd.google.colaboratory.intrinsic+json": {
              "type": "string"
            }
          },
          "metadata": {},
          "execution_count": 43
        }
      ]
    },
    {
      "cell_type": "code",
      "source": [
        "\n",
        "# Path tujuan untuk menyimpan model\n",
        "save_path = '/content/drive/MyDrive/model_vggweight.pth'\n",
        "\n",
        "# Simpan model\n",
        "torch.save(modelvggweight.state_dict(), save_path)\n",
        "\n",
        "print('Model telah disimpan di:', save_path)\n"
      ],
      "metadata": {
        "id": "OpoQPtJ2Mwes",
        "colab": {
          "base_uri": "https://localhost:8080/",
          "height": 55
        },
        "outputId": "1e9dbe55-07de-4b8a-f05a-0bd4ec2b6289"
      },
      "execution_count": null,
      "outputs": [
        {
          "output_type": "execute_result",
          "data": {
            "text/plain": [
              "\"\\n# Path tujuan untuk menyimpan model\\nsave_path = '/content/drive/MyDrive/model_vggweight.pth'\\n\\n# Simpan model\\ntorch.save(modelvggweight.state_dict(), save_path)\\n\\nprint('Model telah disimpan di:', save_path)\\n\""
            ],
            "application/vnd.google.colaboratory.intrinsic+json": {
              "type": "string"
            }
          },
          "metadata": {},
          "execution_count": 44
        }
      ]
    },
    {
      "cell_type": "code",
      "source": [],
      "metadata": {
        "id": "f2isGZcmNHzy"
      },
      "execution_count": null,
      "outputs": []
    },
    {
      "cell_type": "code",
      "source": [],
      "metadata": {
        "id": "oqpNdBnHRS6k"
      },
      "execution_count": null,
      "outputs": []
    },
    {
      "cell_type": "markdown",
      "source": [
        "3.RESNET"
      ],
      "metadata": {
        "id": "QwF-P6z06t2K"
      }
    },
    {
      "cell_type": "code",
      "source": [
        "# Define the training parameters\n",
        "batch_size = 128\n",
        "learning_rate = 0.001\n",
        "epochs = 10\n",
        "\n",
        "# Define the transformation\n",
        "train_transform = transforms.Compose([\n",
        "    transforms.Resize(256),\n",
        "    transforms.RandomResizedCrop(224),\n",
        "    transforms.RandomHorizontalFlip(),\n",
        "    transforms.ToTensor(),\n",
        "    transforms.Normalize([0.485, 0.456, 0.406], [0.229, 0.224, 0.225])\n",
        "])\n",
        "\n",
        "# Define the validation transformation\n",
        "val_transform = transforms.Compose([\n",
        "    transforms.Resize(256),\n",
        "    transforms.CenterCrop(224),\n",
        "    transforms.ToTensor(),\n",
        "    transforms.Normalize([0.485, 0.456, 0.406], [0.229, 0.224, 0.225])\n",
        "])\n",
        "\n",
        "# Load the training dataset\n",
        "train_dataset = datasets.ImageFolder('sample_data/train', transform=train_transform)\n",
        "train_loader = DataLoader(train_dataset, batch_size=batch_size, shuffle=True)\n",
        "\n",
        "# Load the validation dataset\n",
        "val_dataset = datasets.ImageFolder('sample_data/test', transform=val_transform)\n",
        "val_loader = DataLoader(val_dataset, batch_size=batch_size, shuffle=False)\n",
        "\n",
        "# Define the model architecture\n",
        "modelresnetweight = models.resnet18(pretrained=False)\n",
        "num_features = modelresnetweight.fc.in_features\n",
        "modelresnetweight.fc = nn.Linear(num_features, 2)\n",
        "\n",
        "# Move the model to GPU if available\n",
        "device = torch.device(\"cuda\" if torch.cuda.is_available() else \"cpu\")\n",
        "modelresnetweight = modelresnetweight.to(device)\n",
        "\n",
        "# Define the loss function and optimizer\n",
        "criterion = nn.CrossEntropyLoss()\n",
        "optimizer = optim.Adam(modelresnetweight.parameters(), lr=learning_rate)\n",
        "\n",
        "# Lists to store the training and validation losses per epoch\n",
        "train_losses = []\n",
        "val_losses = []\n",
        "\n",
        "# Lists to store the training and validation accuracies per epoch\n",
        "train_accuracies = []\n",
        "val_accuracies = []\n",
        "\n",
        "# Training loop\n",
        "for epoch in range(epochs):\n",
        "    running_loss = 0.0\n",
        "    correct = 0\n",
        "    total = 0\n",
        "\n",
        "    modelresnetweight.train()\n",
        "    for i, data in enumerate(train_loader, 0):\n",
        "        inputs, labels = data\n",
        "        inputs, labels = inputs.to(device), labels.to(device)\n",
        "\n",
        "        optimizer.zero_grad()\n",
        "        outputs = modelresnetweight(inputs)\n",
        "        loss = criterion(outputs, labels)\n",
        "        loss.backward()\n",
        "        optimizer.step()\n",
        "\n",
        "        running_loss += loss.item()\n",
        "        train_losses.append(loss.item())\n",
        "\n",
        "        _, predicted = torch.max(outputs.data, 1)\n",
        "        total += labels.size(0)\n",
        "        correct += (predicted == labels).sum().item()\n",
        "\n",
        "        if (i+1) % 10 == 0:\n",
        "            print(f\"Epoch [{epoch+1}/{epochs}], Step [{i+1}/{len(train_loader)}], Loss: {running_loss / 10:.4f}\")\n",
        "            running_loss = 0.0\n",
        "\n",
        "    train_accuracy = 100 * correct / total\n",
        "    train_accuracies.append(train_accuracy)\n",
        "\n",
        "    # Validation phase\n",
        "    modelresnetweight.eval()\n",
        "    correct = 0\n",
        "    total = 0\n",
        "    val_running_loss = 0.0\n",
        "\n",
        "    with torch.no_grad():\n",
        "        for data in val_loader:\n",
        "            inputs, labels = data\n",
        "            inputs, labels = inputs.to(device), labels.to(device)\n",
        "\n",
        "            outputs = modelresnetweight(inputs)\n",
        "            loss = criterion(outputs, labels)\n",
        "            val_running_loss += loss.item()\n",
        "            val_losses.append(loss.item())\n",
        "\n",
        "            _, predicted = torch.max(outputs.data, 1)\n",
        "            total += labels.size(0)\n",
        "            correct += (predicted == labels).sum().item()\n",
        "\n",
        "    val_accuracy = 100 * correct / total\n",
        "    val_accuracies.append(val_accuracy)\n",
        "\n",
        "    print(f\"Epoch [{epoch+1}/{epochs}], Train Loss: {running_loss / len(train_loader):.4f}, Val Loss: {val_running_loss / len(val_loader):.4f}, Train Accuracy: {train_accuracy:.2f}%, Val Accuracy: {val_accuracy:.2f}%\")\n",
        "\n",
        "print('Finished Training')\n",
        "\n",
        "# Plot training and validation losses\n",
        "plt.plot(train_losses, label='Train Loss')\n",
        "plt.plot(val_losses, label='Validation Loss')\n",
        "plt.title('Training and Validation Loss')\n",
        "plt.xlabel('Epoch')\n",
        "plt.ylabel('Loss')\n",
        "plt.legend()\n",
        "plt.show()\n",
        "\n",
        "# Plot training and validation accuracies\n",
        "plt.plot(train_accuracies, label='Train Accuracy')\n",
        "plt.plot(val_accuracies, label='Validation Accuracy')\n",
        "plt.title('Training and Validation Accuracy')\n",
        "plt.xlabel('Epoch')\n",
        "plt.ylabel('Accuracy')\n",
        "plt.legend()\n",
        "plt.show()"
      ],
      "metadata": {
        "colab": {
          "base_uri": "https://localhost:8080/",
          "height": 165
        },
        "id": "KPoR7eVr6tKS",
        "outputId": "d54c6c70-4832-407f-c89d-eb958defacaf"
      },
      "execution_count": null,
      "outputs": [
        {
          "output_type": "execute_result",
          "data": {
            "text/plain": [
              "'\\n# Define the training parameters\\nbatch_size = 128\\nlearning_rate = 0.001\\nepochs = 10\\n\\n# Define the transformation\\ntrain_transform = transforms.Compose([\\n    transforms.Resize(256),\\n    transforms.RandomResizedCrop(224),\\n    transforms.RandomHorizontalFlip(),\\n    transforms.ToTensor(),\\n    transforms.Normalize([0.485, 0.456, 0.406], [0.229, 0.224, 0.225])\\n])\\n\\n# Define the validation transformation\\nval_transform = transforms.Compose([\\n    transforms.Resize(256),\\n    transforms.CenterCrop(224),\\n    transforms.ToTensor(),\\n    transforms.Normalize([0.485, 0.456, 0.406], [0.229, 0.224, 0.225])\\n])\\n\\n# Load the training dataset\\ntrain_dataset = datasets.ImageFolder(\\'sample_data/train\\', transform=train_transform)\\ntrain_loader = DataLoader(train_dataset, batch_size=batch_size, shuffle=True)\\n\\n# Load the validation dataset\\nval_dataset = datasets.ImageFolder(\\'sample_data/test\\', transform=val_transform)\\nval_loader = DataLoader(val_dataset, batch_size=batch_size, shuffle=False)\\n\\n# Define the model architecture\\nmodelresnetweight = models.resnet18(pretrained=False)\\nnum_features = modelresnetweight.fc.in_features\\nmodelresnetweight.fc = nn.Linear(num_features, 2)\\n\\n# Move the model to GPU if available\\ndevice = torch.device(\"cuda\" if torch.cuda.is_available() else \"cpu\")\\nmodelresnetweight = modelresnetweight.to(device)\\n\\n# Define the loss function and optimizer\\ncriterion = nn.CrossEntropyLoss()\\noptimizer = optim.Adam(modelresnetweight.parameters(), lr=learning_rate)\\n\\n# Lists to store the training and validation losses per epoch\\ntrain_losses = []\\nval_losses = []\\n\\n# Lists to store the training and validation accuracies per epoch\\ntrain_accuracies = []\\nval_accuracies = []\\n\\n# Training loop\\nfor epoch in range(epochs):\\n    running_loss = 0.0\\n    correct = 0\\n    total = 0\\n\\n    modelresnetweight.train()\\n    for i, data in enumerate(train_loader, 0):\\n        inputs, labels = data\\n        inputs, labels = inputs.to(device), labels.to(device)\\n\\n        optimizer.zero_grad()\\n        outputs = modelresnetweight(inputs)\\n        loss = criterion(outputs, labels)\\n        loss.backward()\\n        optimizer.step()\\n\\n        running_loss += loss.item()\\n        train_losses.append(loss.item())\\n\\n        _, predicted = torch.max(outputs.data, 1)\\n        total += labels.size(0)\\n        correct += (predicted == labels).sum().item()\\n\\n        if (i+1) % 10 == 0:\\n            print(f\"Epoch [{epoch+1}/{epochs}], Step [{i+1}/{len(train_loader)}], Loss: {running_loss / 10:.4f}\")\\n            running_loss = 0.0\\n\\n    train_accuracy = 100 * correct / total\\n    train_accuracies.append(train_accuracy)\\n\\n    # Validation phase\\n    modelresnetweight.eval()\\n    correct = 0\\n    total = 0\\n    val_running_loss = 0.0\\n\\n    with torch.no_grad():\\n        for data in val_loader:\\n            inputs, labels = data\\n            inputs, labels = inputs.to(device), labels.to(device)\\n\\n            outputs = modelresnetweight(inputs)\\n            loss = criterion(outputs, labels)\\n            val_running_loss += loss.item()\\n            val_losses.append(loss.item())\\n\\n            _, predicted = torch.max(outputs.data, 1)\\n            total += labels.size(0)\\n            correct += (predicted == labels).sum().item()\\n\\n    val_accuracy = 100 * correct / total\\n    val_accuracies.append(val_accuracy)\\n\\n    print(f\"Epoch [{epoch+1}/{epochs}], Train Loss: {running_loss / len(train_loader):.4f}, Val Loss: {val_running_loss / len(val_loader):.4f}, Train Accuracy: {train_accuracy:.2f}%, Val Accuracy: {val_accuracy:.2f}%\")\\n\\nprint(\\'Finished Training\\')\\n\\n# Plot training and validation losses\\nplt.plot(train_losses, label=\\'Train Loss\\')\\nplt.plot(val_losses, label=\\'Validation Loss\\')\\nplt.title(\\'Training and Validation Loss\\')\\nplt.xlabel(\\'Epoch\\')\\nplt.ylabel(\\'Loss\\')\\nplt.legend()\\nplt.show()\\n\\n# Plot training and validation accuracies\\nplt.plot(train_accuracies, label=\\'Train Accuracy\\')\\nplt.plot(val_accuracies, label=\\'Validation Accuracy\\')\\nplt.title(\\'Training and Validation Accuracy\\')\\nplt.xlabel(\\'Epoch\\')\\nplt.ylabel(\\'Accuracy\\')\\nplt.legend()\\nplt.show()\\n'"
            ],
            "application/vnd.google.colaboratory.intrinsic+json": {
              "type": "string"
            }
          },
          "metadata": {},
          "execution_count": 45
        }
      ]
    },
    {
      "cell_type": "code",
      "source": [
        "def plot_confusion_matrix(confusion_matrix):\n",
        "    \"\"\"\n",
        "    Plots a confusion matrix.\n",
        "\n",
        "    Args:\n",
        "        confusion_matrix (numpy.ndarray): The confusion matrix.\n",
        "    \"\"\"\n",
        "\n",
        "    fig, ax = plt.subplots()\n",
        "    im = ax.imshow(confusion_matrix, cmap=\"Blues\")\n",
        "    ax.set_xlabel(\"Predicted label\")\n",
        "    ax.set_ylabel(\"True label\")\n",
        "    ax.set_xticks(np.arange(len(confusion_matrix)))\n",
        "    ax.set_yticks(np.arange(len(confusion_matrix)))\n",
        "    ax.set_title(\"Confusion matrix\")\n",
        "    for i in range(len(confusion_matrix)):\n",
        "        for j in range(len(confusion_matrix)):\n",
        "            ax.text(j, i, confusion_matrix[i, j], color=\"black\", size=10)\n",
        "    fig.tight_layout()\n",
        "    plt.show()\n",
        "\n",
        "# Compute and print the confusion matrix\n",
        "modelresnetweight.eval()\n",
        "predicted_labels = []\n",
        "true_labels = []\n",
        "\n",
        "with torch.no_grad():\n",
        "    for data in val_loader:\n",
        "        inputs, labels = data\n",
        "        inputs, labels = inputs.to(device), labels.to(device)\n",
        "\n",
        "        outputs = modelresnetweight(inputs)\n",
        "        _, predicted = torch.max(outputs.data, 1)\n",
        "\n",
        "        predicted_labels.extend(predicted.cpu().numpy())\n",
        "        true_labels.extend(labels.cpu().numpy())\n",
        "\n",
        "confusion_mtx = confusion_matrix(true_labels, predicted_labels)\n",
        "\n",
        "# Plot the confusion matrix\n",
        "plot_confusion_matrix(confusion_mtx)"
      ],
      "metadata": {
        "colab": {
          "base_uri": "https://localhost:8080/",
          "height": 165
        },
        "id": "s3ihn2HS6wdf",
        "outputId": "29418f8a-dffb-40aa-a654-536c0cec2b7f"
      },
      "execution_count": null,
      "outputs": [
        {
          "output_type": "execute_result",
          "data": {
            "text/plain": [
              "'\\ndef plot_confusion_matrix(confusion_matrix):\\n    \"\"\"\\n    Plots a confusion matrix.\\n\\n    Args:\\n        confusion_matrix (numpy.ndarray): The confusion matrix.\\n    \"\"\"\\n\\n    fig, ax = plt.subplots()\\n    im = ax.imshow(confusion_matrix, cmap=\"Blues\")\\n    ax.set_xlabel(\"Predicted label\")\\n    ax.set_ylabel(\"True label\")\\n    ax.set_xticks(np.arange(len(confusion_matrix)))\\n    ax.set_yticks(np.arange(len(confusion_matrix)))\\n    ax.set_title(\"Confusion matrix\")\\n    for i in range(len(confusion_matrix)):\\n        for j in range(len(confusion_matrix)):\\n            ax.text(j, i, confusion_matrix[i, j], color=\"black\", size=10)\\n    fig.tight_layout()\\n    plt.show()\\n\\n# Compute and print the confusion matrix\\nmodelresnetweight.eval()\\npredicted_labels = []\\ntrue_labels = []\\n\\nwith torch.no_grad():\\n    for data in val_loader:\\n        inputs, labels = data\\n        inputs, labels = inputs.to(device), labels.to(device)\\n\\n        outputs = modelresnetweight(inputs)\\n        _, predicted = torch.max(outputs.data, 1)\\n\\n        predicted_labels.extend(predicted.cpu().numpy())\\n        true_labels.extend(labels.cpu().numpy())\\n\\nconfusion_mtx = confusion_matrix(true_labels, predicted_labels)\\n\\n# Plot the confusion matrix\\nplot_confusion_matrix(confusion_mtx)\\n'"
            ],
            "application/vnd.google.colaboratory.intrinsic+json": {
              "type": "string"
            }
          },
          "metadata": {},
          "execution_count": 46
        }
      ]
    },
    {
      "cell_type": "code",
      "source": [
        "\n",
        "# Path tujuan untuk menyimpan model\n",
        "save_path = '/content/drive/MyDrive/modelresnet.pth'\n",
        "\n",
        "# Simpan model\n",
        "torch.save(modelresnetweight.state_dict(), save_path)\n",
        "\n",
        "print('Model telah disimpan di:', save_path)\n"
      ],
      "metadata": {
        "colab": {
          "base_uri": "https://localhost:8080/",
          "height": 55
        },
        "id": "bv4Jq2Gp6wkM",
        "outputId": "0659b8fa-4cb4-470e-a53b-fbc9b4493ccf"
      },
      "execution_count": null,
      "outputs": [
        {
          "output_type": "execute_result",
          "data": {
            "text/plain": [
              "\"\\n# Path tujuan untuk menyimpan model\\nsave_path = '/content/drive/MyDrive/modelresnet.pth'\\n\\n# Simpan model\\ntorch.save(modelresnetweight.state_dict(), save_path)\\n\\nprint('Model telah disimpan di:', save_path)\\n\""
            ],
            "application/vnd.google.colaboratory.intrinsic+json": {
              "type": "string"
            }
          },
          "metadata": {},
          "execution_count": 47
        }
      ]
    },
    {
      "cell_type": "code",
      "source": [],
      "metadata": {
        "id": "Kp6HvKr86wnI"
      },
      "execution_count": null,
      "outputs": []
    },
    {
      "cell_type": "code",
      "source": [],
      "metadata": {
        "id": "ZBl9IJ-c6wro"
      },
      "execution_count": null,
      "outputs": []
    },
    {
      "cell_type": "markdown",
      "source": [
        "4.RESNET pre-trained"
      ],
      "metadata": {
        "id": "3QJm5GieRa56"
      }
    },
    {
      "cell_type": "code",
      "source": [
        "\n",
        "# Define the training parameters\n",
        "batch_size = 128\n",
        "learning_rate = 0.001\n",
        "epochs = 10\n",
        "\n",
        "# Define the transformation\n",
        "train_transform = transforms.Compose([\n",
        "    transforms.Resize(256),\n",
        "    transforms.RandomResizedCrop(224),\n",
        "    transforms.RandomHorizontalFlip(),\n",
        "    transforms.ToTensor(),\n",
        "    transforms.Normalize([0.485, 0.456, 0.406], [0.229, 0.224, 0.225])\n",
        "])\n",
        "\n",
        "# Define the validation transformation\n",
        "val_transform = transforms.Compose([\n",
        "    transforms.Resize(256),\n",
        "    transforms.CenterCrop(224),\n",
        "    transforms.ToTensor(),\n",
        "    transforms.Normalize([0.485, 0.456, 0.406], [0.229, 0.224, 0.225])\n",
        "])\n",
        "\n",
        "# Load the training dataset\n",
        "train_dataset = datasets.ImageFolder('sample_data/train', transform=train_transform)\n",
        "train_loader = DataLoader(train_dataset, batch_size=batch_size, shuffle=True)\n",
        "\n",
        "# Load the validation dataset\n",
        "val_dataset = datasets.ImageFolder('sample_data/test', transform=val_transform)\n",
        "val_loader = DataLoader(val_dataset, batch_size=batch_size, shuffle=False)\n",
        "\n",
        "# Define the model architecture\n",
        "modelresnetweight = models.resnet18(pretrained=True)\n",
        "num_features = modelresnetweight.fc.in_features\n",
        "modelresnetweight.fc = nn.Linear(num_features, 2)\n",
        "\n",
        "# Move the model to GPU if available\n",
        "device = torch.device(\"cuda\" if torch.cuda.is_available() else \"cpu\")\n",
        "modelresnetweight = modelresnetweight.to(device)\n",
        "\n",
        "# Define the loss function and optimizer\n",
        "criterion = nn.CrossEntropyLoss()\n",
        "optimizer = optim.Adam(modelresnetweight.parameters(), lr=learning_rate)\n",
        "\n",
        "# Lists to store the training and validation losses per epoch\n",
        "train_losses = []\n",
        "val_losses = []\n",
        "\n",
        "# Lists to store the training and validation accuracies per epoch\n",
        "train_accuracies = []\n",
        "val_accuracies = []\n",
        "\n",
        "# Training loop\n",
        "for epoch in range(epochs):\n",
        "    running_loss = 0.0\n",
        "    correct = 0\n",
        "    total = 0\n",
        "\n",
        "    modelresnetweight.train()\n",
        "    for i, data in enumerate(train_loader, 0):\n",
        "        inputs, labels = data\n",
        "        inputs, labels = inputs.to(device), labels.to(device)\n",
        "\n",
        "        optimizer.zero_grad()\n",
        "        outputs = modelresnetweight(inputs)\n",
        "        loss = criterion(outputs, labels)\n",
        "        loss.backward()\n",
        "        optimizer.step()\n",
        "\n",
        "        running_loss += loss.item()\n",
        "        train_losses.append(loss.item())\n",
        "\n",
        "        _, predicted = torch.max(outputs.data, 1)\n",
        "        total += labels.size(0)\n",
        "        correct += (predicted == labels).sum().item()\n",
        "\n",
        "        if (i+1) % 10 == 0:\n",
        "            print(f\"Epoch [{epoch+1}/{epochs}], Step [{i+1}/{len(train_loader)}], Loss: {running_loss / 10:.4f}\")\n",
        "            running_loss = 0.0\n",
        "\n",
        "    train_accuracy = 100 * correct / total\n",
        "    train_accuracies.append(train_accuracy)\n",
        "\n",
        "    # Validation phase\n",
        "    modelresnetweight.eval()\n",
        "    correct = 0\n",
        "    total = 0\n",
        "    val_running_loss = 0.0\n",
        "\n",
        "    with torch.no_grad():\n",
        "        for data in val_loader:\n",
        "            inputs, labels = data\n",
        "            inputs, labels = inputs.to(device), labels.to(device)\n",
        "\n",
        "            outputs = modelresnetweight(inputs)\n",
        "            loss = criterion(outputs, labels)\n",
        "            val_running_loss += loss.item()\n",
        "            val_losses.append(loss.item())\n",
        "\n",
        "            _, predicted = torch.max(outputs.data, 1)\n",
        "            total += labels.size(0)\n",
        "            correct += (predicted == labels).sum().item()\n",
        "\n",
        "    val_accuracy = 100 * correct / total\n",
        "    val_accuracies.append(val_accuracy)\n",
        "\n",
        "    print(f\"Epoch [{epoch+1}/{epochs}], Train Loss: {running_loss / len(train_loader):.4f}, Val Loss: {val_running_loss / len(val_loader):.4f}, Train Accuracy: {train_accuracy:.2f}%, Val Accuracy: {val_accuracy:.2f}%\")\n",
        "\n",
        "print('Finished Training')\n",
        "\n",
        "# Plot training and validation losses\n",
        "plt.plot(train_losses, label='Train Loss')\n",
        "plt.plot(val_losses, label='Validation Loss')\n",
        "plt.title('Training and Validation Loss')\n",
        "plt.xlabel('Epoch')\n",
        "plt.ylabel('Loss')\n",
        "plt.legend()\n",
        "plt.show()\n",
        "\n",
        "# Plot training and validation accuracies\n",
        "plt.plot(train_accuracies, label='Train Accuracy')\n",
        "plt.plot(val_accuracies, label='Validation Accuracy')\n",
        "plt.title('Training and Validation Accuracy')\n",
        "plt.xlabel('Epoch')\n",
        "plt.ylabel('Accuracy')\n",
        "plt.legend()\n",
        "plt.show()\n"
      ],
      "metadata": {
        "colab": {
          "base_uri": "https://localhost:8080/",
          "height": 165
        },
        "id": "FHCJdEibRTRF",
        "outputId": "502f7f80-ba2b-4d1c-c74f-17e4115254b2"
      },
      "execution_count": null,
      "outputs": [
        {
          "output_type": "execute_result",
          "data": {
            "text/plain": [
              "'\\n# Define the training parameters\\nbatch_size = 128\\nlearning_rate = 0.001\\nepochs = 10\\n\\n# Define the transformation\\ntrain_transform = transforms.Compose([\\n    transforms.Resize(256),\\n    transforms.RandomResizedCrop(224),\\n    transforms.RandomHorizontalFlip(),\\n    transforms.ToTensor(),\\n    transforms.Normalize([0.485, 0.456, 0.406], [0.229, 0.224, 0.225])\\n])\\n\\n# Define the validation transformation\\nval_transform = transforms.Compose([\\n    transforms.Resize(256),\\n    transforms.CenterCrop(224),\\n    transforms.ToTensor(),\\n    transforms.Normalize([0.485, 0.456, 0.406], [0.229, 0.224, 0.225])\\n])\\n\\n# Load the training dataset\\ntrain_dataset = datasets.ImageFolder(\\'sample_data/train\\', transform=train_transform)\\ntrain_loader = DataLoader(train_dataset, batch_size=batch_size, shuffle=True)\\n\\n# Load the validation dataset\\nval_dataset = datasets.ImageFolder(\\'sample_data/test\\', transform=val_transform)\\nval_loader = DataLoader(val_dataset, batch_size=batch_size, shuffle=False)\\n\\n# Define the model architecture\\nmodelresnetweight = models.resnet18(pretrained=True)\\nnum_features = modelresnetweight.fc.in_features\\nmodelresnetweight.fc = nn.Linear(num_features, 2)\\n\\n# Move the model to GPU if available\\ndevice = torch.device(\"cuda\" if torch.cuda.is_available() else \"cpu\")\\nmodelresnetweight = modelresnetweight.to(device)\\n\\n# Define the loss function and optimizer\\ncriterion = nn.CrossEntropyLoss()\\noptimizer = optim.Adam(modelresnetweight.parameters(), lr=learning_rate)\\n\\n# Lists to store the training and validation losses per epoch\\ntrain_losses = []\\nval_losses = []\\n\\n# Lists to store the training and validation accuracies per epoch\\ntrain_accuracies = []\\nval_accuracies = []\\n\\n# Training loop\\nfor epoch in range(epochs):\\n    running_loss = 0.0\\n    correct = 0\\n    total = 0\\n\\n    modelresnetweight.train()\\n    for i, data in enumerate(train_loader, 0):\\n        inputs, labels = data\\n        inputs, labels = inputs.to(device), labels.to(device)\\n\\n        optimizer.zero_grad()\\n        outputs = modelresnetweight(inputs)\\n        loss = criterion(outputs, labels)\\n        loss.backward()\\n        optimizer.step()\\n\\n        running_loss += loss.item()\\n        train_losses.append(loss.item())\\n\\n        _, predicted = torch.max(outputs.data, 1)\\n        total += labels.size(0)\\n        correct += (predicted == labels).sum().item()\\n\\n        if (i+1) % 10 == 0:\\n            print(f\"Epoch [{epoch+1}/{epochs}], Step [{i+1}/{len(train_loader)}], Loss: {running_loss / 10:.4f}\")\\n            running_loss = 0.0\\n\\n    train_accuracy = 100 * correct / total\\n    train_accuracies.append(train_accuracy)\\n\\n    # Validation phase\\n    modelresnetweight.eval()\\n    correct = 0\\n    total = 0\\n    val_running_loss = 0.0\\n\\n    with torch.no_grad():\\n        for data in val_loader:\\n            inputs, labels = data\\n            inputs, labels = inputs.to(device), labels.to(device)\\n\\n            outputs = modelresnetweight(inputs)\\n            loss = criterion(outputs, labels)\\n            val_running_loss += loss.item()\\n            val_losses.append(loss.item())\\n\\n            _, predicted = torch.max(outputs.data, 1)\\n            total += labels.size(0)\\n            correct += (predicted == labels).sum().item()\\n\\n    val_accuracy = 100 * correct / total\\n    val_accuracies.append(val_accuracy)\\n\\n    print(f\"Epoch [{epoch+1}/{epochs}], Train Loss: {running_loss / len(train_loader):.4f}, Val Loss: {val_running_loss / len(val_loader):.4f}, Train Accuracy: {train_accuracy:.2f}%, Val Accuracy: {val_accuracy:.2f}%\")\\n\\nprint(\\'Finished Training\\')\\n\\n# Plot training and validation losses\\nplt.plot(train_losses, label=\\'Train Loss\\')\\nplt.plot(val_losses, label=\\'Validation Loss\\')\\nplt.title(\\'Training and Validation Loss\\')\\nplt.xlabel(\\'Epoch\\')\\nplt.ylabel(\\'Loss\\')\\nplt.legend()\\nplt.show()\\n\\n# Plot training and validation accuracies\\nplt.plot(train_accuracies, label=\\'Train Accuracy\\')\\nplt.plot(val_accuracies, label=\\'Validation Accuracy\\')\\nplt.title(\\'Training and Validation Accuracy\\')\\nplt.xlabel(\\'Epoch\\')\\nplt.ylabel(\\'Accuracy\\')\\nplt.legend()\\nplt.show()\\n'"
            ],
            "application/vnd.google.colaboratory.intrinsic+json": {
              "type": "string"
            }
          },
          "metadata": {},
          "execution_count": 48
        }
      ]
    },
    {
      "cell_type": "code",
      "source": [
        "\n",
        "def plot_confusion_matrix(confusion_matrix):\n",
        "    \"\"\"\n",
        "    Plots a confusion matrix.\n",
        "\n",
        "    Args:\n",
        "        confusion_matrix (numpy.ndarray): The confusion matrix.\n",
        "    \"\"\"\n",
        "\n",
        "    fig, ax = plt.subplots()\n",
        "    im = ax.imshow(confusion_matrix, cmap=\"Blues\")\n",
        "    ax.set_xlabel(\"Predicted label\")\n",
        "    ax.set_ylabel(\"True label\")\n",
        "    ax.set_xticks(np.arange(len(confusion_matrix)))\n",
        "    ax.set_yticks(np.arange(len(confusion_matrix)))\n",
        "    ax.set_title(\"Confusion matrix\")\n",
        "    for i in range(len(confusion_matrix)):\n",
        "        for j in range(len(confusion_matrix)):\n",
        "            ax.text(j, i, confusion_matrix[i, j], color=\"black\", size=10)\n",
        "    fig.tight_layout()\n",
        "    plt.show()\n",
        "\n",
        "# Compute and print the confusion matrix\n",
        "modelresnetweight.eval()\n",
        "predicted_labels = []\n",
        "true_labels = []\n",
        "\n",
        "with torch.no_grad():\n",
        "    for data in val_loader:\n",
        "        inputs, labels = data\n",
        "        inputs, labels = inputs.to(device), labels.to(device)\n",
        "\n",
        "        outputs = modelresnetweight(inputs)\n",
        "        _, predicted = torch.max(outputs.data, 1)\n",
        "\n",
        "        predicted_labels.extend(predicted.cpu().numpy())\n",
        "        true_labels.extend(labels.cpu().numpy())\n",
        "\n",
        "confusion_mtx = confusion_matrix(true_labels, predicted_labels)\n",
        "\n",
        "# Plot the confusion matrix\n",
        "plot_confusion_matrix(confusion_mtx)\n"
      ],
      "metadata": {
        "colab": {
          "base_uri": "https://localhost:8080/",
          "height": 165
        },
        "id": "3QUfmz0iRTZf",
        "outputId": "e8867879-577b-4df5-fb35-e3a8ecd02981"
      },
      "execution_count": null,
      "outputs": [
        {
          "output_type": "execute_result",
          "data": {
            "text/plain": [
              "'\\ndef plot_confusion_matrix(confusion_matrix):\\n    \"\"\"\\n    Plots a confusion matrix.\\n\\n    Args:\\n        confusion_matrix (numpy.ndarray): The confusion matrix.\\n    \"\"\"\\n\\n    fig, ax = plt.subplots()\\n    im = ax.imshow(confusion_matrix, cmap=\"Blues\")\\n    ax.set_xlabel(\"Predicted label\")\\n    ax.set_ylabel(\"True label\")\\n    ax.set_xticks(np.arange(len(confusion_matrix)))\\n    ax.set_yticks(np.arange(len(confusion_matrix)))\\n    ax.set_title(\"Confusion matrix\")\\n    for i in range(len(confusion_matrix)):\\n        for j in range(len(confusion_matrix)):\\n            ax.text(j, i, confusion_matrix[i, j], color=\"black\", size=10)\\n    fig.tight_layout()\\n    plt.show()\\n\\n# Compute and print the confusion matrix\\nmodelresnetweight.eval()\\npredicted_labels = []\\ntrue_labels = []\\n\\nwith torch.no_grad():\\n    for data in val_loader:\\n        inputs, labels = data\\n        inputs, labels = inputs.to(device), labels.to(device)\\n\\n        outputs = modelresnetweight(inputs)\\n        _, predicted = torch.max(outputs.data, 1)\\n\\n        predicted_labels.extend(predicted.cpu().numpy())\\n        true_labels.extend(labels.cpu().numpy())\\n\\nconfusion_mtx = confusion_matrix(true_labels, predicted_labels)\\n\\n# Plot the confusion matrix\\nplot_confusion_matrix(confusion_mtx)\\n'"
            ],
            "application/vnd.google.colaboratory.intrinsic+json": {
              "type": "string"
            }
          },
          "metadata": {},
          "execution_count": 49
        }
      ]
    },
    {
      "cell_type": "code",
      "source": [
        "\n",
        "# Path tujuan untuk menyimpan model\n",
        "save_path = '/content/drive/MyDrive/modelresnetweight.pth'\n",
        "\n",
        "# Simpan model\n",
        "torch.save(modelresnetweight.state_dict(), save_path)\n",
        "\n",
        "print('Model telah disimpan di:', save_path)\n"
      ],
      "metadata": {
        "colab": {
          "base_uri": "https://localhost:8080/",
          "height": 55
        },
        "id": "7RSHhzMHUN1v",
        "outputId": "9308c9cc-0c7d-4610-bc20-a1c19dc5a36b"
      },
      "execution_count": null,
      "outputs": [
        {
          "output_type": "execute_result",
          "data": {
            "text/plain": [
              "\"\\n# Path tujuan untuk menyimpan model\\nsave_path = '/content/drive/MyDrive/modelresnetweight.pth'\\n\\n# Simpan model\\ntorch.save(modelresnetweight.state_dict(), save_path)\\n\\nprint('Model telah disimpan di:', save_path)\\n\""
            ],
            "application/vnd.google.colaboratory.intrinsic+json": {
              "type": "string"
            }
          },
          "metadata": {},
          "execution_count": 50
        }
      ]
    },
    {
      "cell_type": "code",
      "source": [],
      "metadata": {
        "id": "JV2ied4bUOHP"
      },
      "execution_count": null,
      "outputs": []
    },
    {
      "cell_type": "code",
      "source": [],
      "metadata": {
        "id": "oPSTgwG6QJyk"
      },
      "execution_count": null,
      "outputs": []
    },
    {
      "cell_type": "code",
      "source": [],
      "metadata": {
        "id": "BFZm6RMdQJ3B"
      },
      "execution_count": null,
      "outputs": []
    },
    {
      "cell_type": "markdown",
      "source": [
        "5.GOOGLENET"
      ],
      "metadata": {
        "id": "wmK2e54tQ9WK"
      }
    },
    {
      "cell_type": "code",
      "source": [
        "# Define the training parameters\n",
        "batch_size = 128\n",
        "learning_rate = 0.001\n",
        "epochs = 10\n",
        "\n",
        "# Define the transformation\n",
        "train_transform = transforms.Compose([\n",
        "    transforms.Resize(256),\n",
        "    transforms.RandomResizedCrop(224),\n",
        "    transforms.RandomHorizontalFlip(),\n",
        "    transforms.ToTensor(),\n",
        "    transforms.Normalize([0.485, 0.456, 0.406], [0.229, 0.224, 0.225])\n",
        "])\n",
        "\n",
        "# Define the validation transformation\n",
        "val_transform = transforms.Compose([\n",
        "    transforms.Resize(256),\n",
        "    transforms.CenterCrop(224),\n",
        "    transforms.ToTensor(),\n",
        "    transforms.Normalize([0.485, 0.456, 0.406], [0.229, 0.224, 0.225])\n",
        "])\n",
        "\n",
        "# Define the path to the training and validation datasets\n",
        "train_dataset_path = 'sample_data/train'  # Ganti dengan path dataset training Anda\n",
        "val_dataset_path = 'sample_data/test'  # Ganti dengan path dataset validasi Anda\n",
        "\n",
        "# Load the training dataset\n",
        "train_dataset = datasets.ImageFolder(train_dataset_path, transform=train_transform)\n",
        "train_loader = DataLoader(train_dataset, batch_size=batch_size, shuffle=True)\n",
        "\n",
        "# Load the validation dataset\n",
        "val_dataset = datasets.ImageFolder(val_dataset_path, transform=val_transform)\n",
        "val_loader = DataLoader(val_dataset, batch_size=batch_size, shuffle=False)\n",
        "\n",
        "# Define the model architecture\n",
        "model = models.googlenet(pretrained=False)\n",
        "num_ftrs = model.fc.in_features\n",
        "model.fc = nn.Linear(num_ftrs, 2)  # Mengganti output layer menjadi 2 untuk label 'Male' dan 'Female'\n",
        "\n",
        "# Move the model to GPU if available\n",
        "device = torch.device(\"cuda\" if torch.cuda.is_available() else \"cpu\")\n",
        "model = model.to(device)\n",
        "\n",
        "# Define the loss function and optimizer\n",
        "criterion = nn.CrossEntropyLoss()\n",
        "optimizer = optim.Adam(model.parameters(), lr=learning_rate)\n",
        "\n",
        "# Lists to store the training and validation losses per epoch\n",
        "train_losses = []\n",
        "val_losses = []\n",
        "\n",
        "# Lists to store the training and validation accuracies per epoch\n",
        "train_accuracies = []\n",
        "val_accuracies = []\n",
        "\n",
        "# Training loop\n",
        "for epoch in range(epochs):\n",
        "    running_loss = 0.0\n",
        "    correct = 0\n",
        "    total = 0\n",
        "\n",
        "    model.train()\n",
        "    for i, data in enumerate(train_loader, 0):\n",
        "        inputs, labels = data\n",
        "        inputs, labels = inputs.to(device), labels.to(device)\n",
        "\n",
        "        # ...\n",
        "        optimizer.zero_grad()\n",
        "        outputs = model(inputs)\n",
        "        loss = criterion(outputs.logits, labels)\n",
        "        loss.backward()\n",
        "        optimizer.step()\n",
        "        # ...\n",
        "\n",
        "\n",
        "\n",
        "\n",
        "        running_loss += loss.item()\n",
        "        train_losses.append(loss.item())\n",
        "\n",
        "        # ...\n",
        "        _, predicted = torch.max(outputs.logits, 1)\n",
        "        # ...\n",
        "\n",
        "        total += labels.size(0)\n",
        "        correct += (predicted == labels).sum().item()\n",
        "\n",
        "        if (i+1) % 10 == 0:\n",
        "            print(f\"Epoch [{epoch+1}/{epochs}], Step [{i+1}/{len(train_loader)}], Loss: {running_loss / 10:.4f}\")\n",
        "            running_loss = 0.0\n",
        "\n",
        "    train_accuracy = 100 * correct / total\n",
        "    train_accuracies.append(train_accuracy)\n",
        "\n",
        "    # Validation phase\n",
        "    model.eval()\n",
        "    correct = 0\n",
        "    total = 0\n",
        "    val_running_loss = 0.0\n",
        "\n",
        "    with torch.no_grad():\n",
        "        for data in val_loader:\n",
        "            inputs, labels = data\n",
        "            inputs, labels = inputs.to(device), labels.to(device)\n",
        "\n",
        "            outputs = model(inputs)\n",
        "            loss = criterion(outputs, labels)\n",
        "            val_running_loss += loss.item()\n",
        "            val_losses.append(loss.item())\n",
        "\n",
        "            # ...\n",
        "            _, predicted = torch.max(outputs, 1)\n",
        "            # ...\n",
        "\n",
        "            total += labels.size(0)\n",
        "            correct += (predicted == labels).sum().item()\n",
        "\n",
        "    val_accuracy = 100 * correct / total\n",
        "    val_accuracies.append(val_accuracy)\n",
        "\n",
        "    print(f\"Epoch [{epoch+1}/{epochs}], Train Loss: {running_loss / len(train_loader):.4f}, Val Loss: {val_running_loss / len(val_loader):.4f}, Train Accuracy: {train_accuracy:.2f}%, Val Accuracy: {val_accuracy:.2f}%\")\n",
        "\n",
        "print('Finished Training')\n",
        "\n",
        "# Plot training and validation losses\n",
        "plt.plot(train_losses, label='Train Loss')\n",
        "plt.plot(val_losses, label='Validation Loss')\n",
        "plt.title('Training and Validation Loss')\n",
        "plt.xlabel('Epoch')\n",
        "plt.ylabel('Loss')\n",
        "plt.legend()\n",
        "plt.show()\n",
        "\n",
        "# Plot training and validation accuracies\n",
        "plt.plot(train_accuracies, label='Train Accuracy')\n",
        "plt.plot(val_accuracies, label='Validation Accuracy')\n",
        "plt.title('Training and Validation Accuracy')\n",
        "plt.xlabel('Epoch')\n",
        "plt.ylabel('Accuracy')\n",
        "plt.legend()\n",
        "plt.show()\n"
      ],
      "metadata": {
        "id": "KvnfI0a7P03t",
        "colab": {
          "base_uri": "https://localhost:8080/",
          "height": 1000
        },
        "outputId": "1ad14416-0902-4f46-a8d7-d13b78d2330c"
      },
      "execution_count": null,
      "outputs": [
        {
          "output_type": "stream",
          "name": "stdout",
          "text": [
            "Epoch [1/10], Step [10/28], Loss: 0.8261\n",
            "Epoch [1/10], Step [20/28], Loss: 0.6797\n",
            "Epoch [1/10], Train Loss: 0.1919, Val Loss: 0.9478, Train Accuracy: 55.54%, Val Accuracy: 19.02%\n",
            "Epoch [2/10], Step [10/28], Loss: 0.6567\n",
            "Epoch [2/10], Step [20/28], Loss: 0.6148\n",
            "Epoch [2/10], Train Loss: 0.1788, Val Loss: 0.6001, Train Accuracy: 63.65%, Val Accuracy: 73.19%\n",
            "Epoch [3/10], Step [10/28], Loss: 0.6536\n",
            "Epoch [3/10], Step [20/28], Loss: 0.6297\n",
            "Epoch [3/10], Train Loss: 0.1791, Val Loss: 0.4936, Train Accuracy: 64.08%, Val Accuracy: 80.51%\n",
            "Epoch [4/10], Step [10/28], Loss: 0.5900\n",
            "Epoch [4/10], Step [20/28], Loss: 0.5900\n",
            "Epoch [4/10], Train Loss: 0.1692, Val Loss: 0.5680, Train Accuracy: 68.74%, Val Accuracy: 69.70%\n",
            "Epoch [5/10], Step [10/28], Loss: 0.5641\n",
            "Epoch [5/10], Step [20/28], Loss: 0.5185\n",
            "Epoch [5/10], Train Loss: 0.1420, Val Loss: 0.4655, Train Accuracy: 72.89%, Val Accuracy: 76.47%\n",
            "Epoch [6/10], Step [10/28], Loss: 0.5027\n",
            "Epoch [6/10], Step [20/28], Loss: 0.4885\n",
            "Epoch [6/10], Train Loss: 0.1266, Val Loss: 0.8467, Train Accuracy: 76.23%, Val Accuracy: 60.94%\n",
            "Epoch [7/10], Step [10/28], Loss: 0.4001\n",
            "Epoch [7/10], Step [20/28], Loss: 0.4119\n",
            "Epoch [7/10], Train Loss: 0.1296, Val Loss: 0.3783, Train Accuracy: 79.71%, Val Accuracy: 87.28%\n",
            "Epoch [8/10], Step [10/28], Loss: 0.3842\n",
            "Epoch [8/10], Step [20/28], Loss: 0.3818\n",
            "Epoch [8/10], Train Loss: 0.0981, Val Loss: 0.2668, Train Accuracy: 81.85%, Val Accuracy: 87.00%\n",
            "Epoch [9/10], Step [10/28], Loss: 0.3235\n",
            "Epoch [9/10], Step [20/28], Loss: 0.3714\n",
            "Epoch [9/10], Train Loss: 0.1027, Val Loss: 0.2353, Train Accuracy: 83.47%, Val Accuracy: 88.10%\n",
            "Epoch [10/10], Step [10/28], Loss: 0.3400\n",
            "Epoch [10/10], Step [20/28], Loss: 0.3253\n",
            "Epoch [10/10], Train Loss: 0.0962, Val Loss: 0.3388, Train Accuracy: 83.92%, Val Accuracy: 87.00%\n",
            "Finished Training\n"
          ]
        },
        {
          "output_type": "display_data",
          "data": {
            "text/plain": [
              "<Figure size 640x480 with 1 Axes>"
            ],
            "image/png": "[encoded data removed]"
          },
          "metadata": {}
        },
        {
          "output_type": "display_data",
          "data": {
            "text/plain": [
              "<Figure size 640x480 with 1 Axes>"
            ],
            "image/png": "[encoded data removed]"
          },
          "metadata": {}
        }
      ]
    },
    {
      "cell_type": "code",
      "source": [
        "def plot_confusion_matrix(confusion_matrix):\n",
        "    \"\"\"\n",
        "    Plots a confusion matrix.\n",
        "\n",
        "    Args:\n",
        "        confusion_matrix (numpy.ndarray): The confusion matrix.\n",
        "    \"\"\"\n",
        "\n",
        "    fig, ax = plt.subplots()\n",
        "    im = ax.imshow(confusion_matrix, cmap=\"Blues\")\n",
        "    ax.set_xlabel(\"Predicted label\")\n",
        "    ax.set_ylabel(\"True label\")\n",
        "    ax.set_xticks(np.arange(len(confusion_matrix)))\n",
        "    ax.set_yticks(np.arange(len(confusion_matrix)))\n",
        "    ax.set_title(\"Confusion matrix\")\n",
        "    for i in range(len(confusion_matrix)):\n",
        "        for j in range(len(confusion_matrix)):\n",
        "            ax.text(j, i, confusion_matrix[i, j], color=\"black\", size=10)\n",
        "    fig.tight_layout()\n",
        "    plt.show()\n",
        "\n",
        "# Compute and print the confusion matrix\n",
        "model.eval()\n",
        "predicted_labels = []\n",
        "true_labels = []\n",
        "\n",
        "with torch.no_grad():\n",
        "    for data in val_loader:\n",
        "        inputs, labels = data\n",
        "        inputs, labels = inputs.to(device), labels.to(device)\n",
        "\n",
        "        outputs = model(inputs)\n",
        "        _, predicted = torch.max(outputs.data, 1)\n",
        "\n",
        "        predicted_labels.extend(predicted.cpu().numpy())\n",
        "        true_labels.extend(labels.cpu().numpy())\n",
        "\n",
        "confusion_mtx = confusion_matrix(true_labels, predicted_labels)\n",
        "\n",
        "# Plot the confusion matrix\n",
        "plot_confusion_matrix(confusion_mtx)"
      ],
      "metadata": {
        "id": "SiZjk31WP1Nr",
        "colab": {
          "base_uri": "https://localhost:8080/",
          "height": 487
        },
        "outputId": "f2ab8e59-5b7e-48ed-a700-718e9a243c61"
      },
      "execution_count": null,
      "outputs": [
        {
          "output_type": "display_data",
          "data": {
            "text/plain": [
              "<Figure size 640x480 with 1 Axes>"
            ],
            "image/png": "[encoded data removed]"
          },
          "metadata": {}
        }
      ]
    },
    {
      "cell_type": "code",
      "source": [
        "# Path tujuan untuk menyimpan model\n",
        "save_path = '/content/drive/MyDrive/model_googlenet.pth'\n",
        "\n",
        "# Simpan model\n",
        "torch.save(model.state_dict(), save_path)\n",
        "\n",
        "print('Model telah disimpan di:', save_path)\n"
      ],
      "metadata": {
        "id": "I-GXSx-8P1Yh",
        "colab": {
          "base_uri": "https://localhost:8080/"
        },
        "outputId": "bfa46bd2-f942-4b0c-b822-94c96478cf67"
      },
      "execution_count": null,
      "outputs": [
        {
          "output_type": "stream",
          "name": "stdout",
          "text": [
            "Model telah disimpan di: /content/drive/MyDrive/model_googlenet.pth\n"
          ]
        }
      ]
    },
    {
      "cell_type": "code",
      "source": [],
      "metadata": {
        "id": "E9IM7tXNP1fr"
      },
      "execution_count": null,
      "outputs": []
    },
    {
      "cell_type": "code",
      "source": [],
      "metadata": {
        "id": "EaNOcd0YP11L"
      },
      "execution_count": null,
      "outputs": []
    },
    {
      "cell_type": "code",
      "source": [],
      "metadata": {
        "id": "e-Jct0g0P16w"
      },
      "execution_count": null,
      "outputs": []
    },
    {
      "cell_type": "code",
      "source": [],
      "metadata": {
        "id": "KbkCSmO7P1-d"
      },
      "execution_count": null,
      "outputs": []
    },
    {
      "cell_type": "markdown",
      "source": [
        "6.GOOGLENET pre-trained"
      ],
      "metadata": {
        "id": "PIXwRTLCP51n"
      }
    },
    {
      "cell_type": "code",
      "source": [
        "# Define the training parameters\n",
        "batch_size = 128\n",
        "learning_rate = 0.001\n",
        "epochs = 10\n",
        "\n",
        "# Define the transformation\n",
        "train_transform = transforms.Compose([\n",
        "    transforms.Resize(256),\n",
        "    transforms.RandomResizedCrop(224),\n",
        "    transforms.RandomHorizontalFlip(),\n",
        "    transforms.ToTensor(),\n",
        "    transforms.Normalize([0.485, 0.456, 0.406], [0.229, 0.224, 0.225])\n",
        "])\n",
        "\n",
        "# Define the validation transformation\n",
        "val_transform = transforms.Compose([\n",
        "    transforms.Resize(256),\n",
        "    transforms.CenterCrop(224),\n",
        "    transforms.ToTensor(),\n",
        "    transforms.Normalize([0.485, 0.456, 0.406], [0.229, 0.224, 0.225])\n",
        "])\n",
        "\n",
        "# Load the training dataset\n",
        "train_dataset = datasets.ImageFolder('sample_data/train', transform=train_transform)\n",
        "train_loader = DataLoader(train_dataset, batch_size=batch_size, shuffle=True)\n",
        "\n",
        "# Load the validation dataset\n",
        "val_dataset = datasets.ImageFolder('sample_data/test', transform=val_transform)\n",
        "val_loader = DataLoader(val_dataset, batch_size=batch_size, shuffle=False)\n",
        "\n",
        "# Define the model architecture\n",
        "model_googlenet = models.googlenet(pretrained=True)\n",
        "num_features = model_googlenet.fc.in_features\n",
        "model_googlenet.fc = nn.Linear(num_features, 2)\n",
        "\n",
        "# Move the model to GPU if available\n",
        "device = torch.device(\"cuda\" if torch.cuda.is_available() else \"cpu\")\n",
        "model_googlenet = model_googlenet.to(device)\n",
        "\n",
        "# Define the loss function and optimizer\n",
        "criterion = nn.CrossEntropyLoss()\n",
        "optimizer = optim.Adam(model_googlenet.parameters(), lr=learning_rate)\n",
        "\n",
        "# Lists to store the training and validation losses per epoch\n",
        "train_losses = []\n",
        "val_losses = []\n",
        "\n",
        "# Lists to store the training and validation accuracies per epoch\n",
        "train_accuracies = []\n",
        "val_accuracies = []\n",
        "\n",
        "# Training loop\n",
        "for epoch in range(epochs):\n",
        "    running_loss = 0.0\n",
        "    correct = 0\n",
        "    total = 0\n",
        "\n",
        "    model_googlenet.train()\n",
        "    for i, data in enumerate(train_loader, 0):\n",
        "        inputs, labels = data\n",
        "        inputs, labels = inputs.to(device), labels.to(device)\n",
        "\n",
        "        optimizer.zero_grad()\n",
        "        outputs = model_googlenet(inputs)\n",
        "        loss = criterion(outputs, labels)\n",
        "        loss.backward()\n",
        "        optimizer.step()\n",
        "\n",
        "        running_loss += loss.item()\n",
        "        train_losses.append(loss.item())\n",
        "\n",
        "        _, predicted = torch.max(outputs.data, 1)\n",
        "        total += labels.size(0)\n",
        "        correct += (predicted == labels).sum().item()\n",
        "\n",
        "        if (i+1) % 10 == 0:\n",
        "            print(f\"Epoch [{epoch+1}/{epochs}], Step [{i+1}/{len(train_loader)}], Loss: {running_loss / 10:.4f}\")\n",
        "            running_loss = 0.0\n",
        "\n",
        "    train_accuracy = 100 * correct / total\n",
        "    train_accuracies.append(train_accuracy)\n",
        "\n",
        "    # Validation phase\n",
        "    model_googlenet.eval()\n",
        "    correct = 0\n",
        "    total = 0\n",
        "    val_running_loss = 0.0\n",
        "\n",
        "    with torch.no_grad():\n",
        "        for data in val_loader:\n",
        "            inputs, labels = data\n",
        "            inputs, labels = inputs.to(device), labels.to(device)\n",
        "\n",
        "            outputs = model_googlenet(inputs)\n",
        "            loss = criterion(outputs, labels)\n",
        "            val_running_loss += loss.item()\n",
        "            val_losses.append(loss.item())\n",
        "\n",
        "            _, predicted = torch.max(outputs.data, 1)\n",
        "            total += labels.size(0)\n",
        "            correct += (predicted == labels).sum().item()\n",
        "\n",
        "    val_accuracy = 100 * correct / total\n",
        "    val_accuracies.append(val_accuracy)\n",
        "\n",
        "    print(f\"Epoch [{epoch+1}/{epochs}], Train Loss: {running_loss / len(train_loader):.4f}, Val Loss: {val_running_loss / len(val_loader):.4f}, Train Accuracy: {train_accuracy:.2f}%, Val Accuracy: {val_accuracy:.2f}%\")\n",
        "\n",
        "print('Finished Training')\n",
        "\n",
        "# Plot training and validation losses\n",
        "plt.plot(train_losses, label='Train Loss')\n",
        "plt.plot(val_losses, label='Validation Loss')\n",
        "plt.title('Training and Validation Loss')\n",
        "plt.xlabel('Epoch')\n",
        "plt.ylabel('Loss')\n",
        "plt.legend()\n",
        "plt.show()\n",
        "\n",
        "# Plot training and validation accuracies\n",
        "plt.plot(train_accuracies, label='Train Accuracy')\n",
        "plt.plot(val_accuracies, label='Validation Accuracy')\n",
        "plt.title('Training and Validation Accuracy')\n",
        "plt.xlabel('Epoch')\n",
        "plt.ylabel('Accuracy')\n",
        "plt.legend()\n",
        "plt.show()\n"
      ],
      "metadata": {
        "id": "cPR8StrQRFPm"
      },
      "execution_count": null,
      "outputs": []
    },
    {
      "cell_type": "code",
      "source": [
        "def plot_confusion_matrix(confusion_matrix):\n",
        "    \"\"\"\n",
        "    Plots a confusion matrix.\n",
        "\n",
        "    Args:\n",
        "        confusion_matrix (numpy.ndarray): The confusion matrix.\n",
        "    \"\"\"\n",
        "\n",
        "    fig, ax = plt.subplots()\n",
        "    im = ax.imshow(confusion_matrix, cmap=\"Blues\")\n",
        "    ax.set_xlabel(\"Predicted label\")\n",
        "    ax.set_ylabel(\"True label\")\n",
        "    ax.set_xticks(np.arange(len(confusion_matrix)))\n",
        "    ax.set_yticks(np.arange(len(confusion_matrix)))\n",
        "    ax.set_title(\"Confusion matrix\")\n",
        "    for i in range(len(confusion_matrix)):\n",
        "        for j in range(len(confusion_matrix)):\n",
        "            ax.text(j, i, confusion_matrix[i, j], color=\"black\", size=10)\n",
        "    fig.tight_layout()\n",
        "    plt.show()\n",
        "\n",
        "# Compute and print the confusion matrix\n",
        "model_googlenet.eval()\n",
        "predicted_labels = []\n",
        "true_labels = []\n",
        "\n",
        "with torch.no_grad():\n",
        "    for data in val_loader:\n",
        "        inputs, labels = data\n",
        "        inputs, labels = inputs.to(device), labels.to(device)\n",
        "\n",
        "        outputs = model_googlenet(inputs)\n",
        "        _, predicted = torch.max(outputs.data, 1)\n",
        "\n",
        "        predicted_labels.extend(predicted.cpu().numpy())\n",
        "        true_labels.extend(labels.cpu().numpy())\n",
        "\n",
        "confusion_mtx = confusion_matrix(true_labels, predicted_labels)\n",
        "\n",
        "# Plot the confusion matrix\n",
        "plot_confusion_matrix(confusion_mtx)"
      ],
      "metadata": {
        "id": "KfAQlpnCSVpG"
      },
      "execution_count": null,
      "outputs": []
    },
    {
      "cell_type": "code",
      "source": [
        "# Path tujuan untuk menyimpan model\n",
        "save_path = '/content/drive/MyDrive/model_googlenetweight.pth'\n",
        "\n",
        "# Simpan model\n",
        "torch.save(model_googlenet.state_dict(), save_path)\n",
        "\n",
        "print('Model telah disimpan di:', save_path)"
      ],
      "metadata": {
        "id": "RNqzj--cP_Jy"
      },
      "execution_count": null,
      "outputs": []
    },
    {
      "cell_type": "code",
      "source": [],
      "metadata": {
        "id": "N-Hz9JDWRJXY"
      },
      "execution_count": null,
      "outputs": []
    }
  ]
}